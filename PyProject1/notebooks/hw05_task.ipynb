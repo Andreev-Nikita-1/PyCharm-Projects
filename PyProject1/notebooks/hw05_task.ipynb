{
 "cells": [
  {
   "cell_type": "markdown",
   "metadata": {
    "colab_type": "text",
    "id": "hgt4q-WT5tLV"
   },
   "source": [
    "# Перцептрон для восприятия цифр\n",
    "__Суммарное количество баллов: 10__\n",
    "\n",
    "__Решение отправлять на `ml.course.practice@gmail.com`__\n",
    "\n",
    "__Тема письма: `[ML][HW05] <ФИ>`, где вместо `<ФИ>` указаны фамилия и имя__\n",
    "\n",
    "В этом задании вам предстоит реализовать классический перцептрон, немного улчшить его, и протестировать результат на классической задаче определния цифр по изображениям."
   ]
  },
  {
   "cell_type": "code",
   "execution_count": 7,
   "metadata": {
    "colab": {},
    "colab_type": "code",
    "id": "HtQreA-V5tLW",
    "pycharm": {
     "is_executing": false
    }
   },
   "outputs": [],
   "source": [
    "import numpy as np\n",
    "from sklearn.datasets import make_blobs, make_moons\n",
    "from sklearn.model_selection import train_test_split\n",
    "import matplotlib.pyplot as plt\n",
    "from sklearn import datasets\n",
    "import copy"
   ]
  },
  {
   "cell_type": "markdown",
   "metadata": {
    "colab_type": "text",
    "id": "lARqtR6o5tLY"
   },
   "source": [
    "### Задание 1 (3 балла)\n",
    "Для начала реализуем простой перцептрон.\n",
    "\n",
    "#### Методы\n",
    "`predict(X)` - возвращает предсказанные метки для элементов выборки `X`\n",
    "\n",
    "`fit(X, y)` - инициализирует веса перцептрона, а затем обновляет их в течении `iterations` итераций. \n",
    "\n",
    "#### Параметры конструктора\n",
    "`iterations` - количество итераций обучения перцептрона\n",
    "\n",
    "#### Поля\n",
    "`w` - веса перцептрона размерности `X.shape[1] + 1`. `w[0]` должен соответстовать константе, `w[1:]` - коэффициентам компонент элемента `X`."
   ]
  },
  {
   "cell_type": "code",
   "execution_count": 8,
   "metadata": {
    "colab": {},
    "colab_type": "code",
    "id": "9vOHrZ5W5tLZ",
    "pycharm": {
     "is_executing": false
    }
   },
   "outputs": [],
   "source": [
    "class Perceptron:\n",
    "    def __init__(self, iterations=100):\n",
    "        self.iterations = iterations\n",
    "        self.X = None\n",
    "        self.y = None\n",
    "        self.w = None\n",
    "        self.maxs = None\n",
    "        self.mins = None\n",
    "\n",
    "    def iteration(self):\n",
    "        wrongs = [i for i in range(len(self.X)) if self.y[i] * np.dot(self.w, self.X[i]) < 0]\n",
    "        index = np.random.choice(wrongs)\n",
    "        self.w = self.w + self.y[index] * self.X[index]\n",
    "\n",
    "    def normalise(self, x):\n",
    "        return np.hstack(([1], (x - self.mins) / (self.maxs - self.mins)))\n",
    "\n",
    "    def fit(self, X, y):\n",
    "        self.maxs = np.array([np.max(X[:, j]) for j in range(X.shape[1])])\n",
    "        self.mins = np.array([np.min(X[:, j]) for j in range(X.shape[1])])\n",
    "        self.X = np.array(\n",
    "            [self.normalise(x) for x in X])\n",
    "        self.y = (y * 2) - 1\n",
    "        self.w = np.random.random((X.shape[1] + 1))\n",
    "        self.bestw = self.w\n",
    "        self.besterror = len(X)\n",
    "        for i in range(self.iterations):\n",
    "            self.iteration()\n",
    "\n",
    "    def predict(self, X):\n",
    "        return (1 + np.array([np.sign(np.dot(self.w, self.normalise(x))) for x in X])) / 2\n",
    "\n",
    "    def getw(self):\n",
    "        w1 = self.w[1:] / (self.maxs - self.mins)\n",
    "        return np.hstack(([self.w[0] - np.dot(w1, self.mins)], w1))\n"
   ]
  },
  {
   "cell_type": "markdown",
   "metadata": {
    "colab_type": "text",
    "id": "KSunHi2E5tLb"
   },
   "source": [
    "Посмотрим на то, как наш перцептрон справляется с различными наборами данных"
   ]
  },
  {
   "cell_type": "code",
   "execution_count": 9,
   "metadata": {
    "colab": {},
    "colab_type": "code",
    "id": "Xjeekf8a5tLb",
    "pycharm": {
     "is_executing": false
    }
   },
   "outputs": [
    {
     "traceback": [
      "\u001b[0;31m---------------------------------------------------------------------------\u001b[0m",
      "\u001b[0;31mNameError\u001b[0m                                 Traceback (most recent call last)",
      "\u001b[0;32m<ipython-input-9-bbd387b37481>\u001b[0m in \u001b[0;36m<module>\u001b[0;34m\u001b[0m\n\u001b[1;32m      2\u001b[0m \u001b[0mc\u001b[0m \u001b[0;34m=\u001b[0m \u001b[0mPerceptron\u001b[0m\u001b[0;34m(\u001b[0m\u001b[0;34m)\u001b[0m\u001b[0;34m\u001b[0m\u001b[0;34m\u001b[0m\u001b[0m\n\u001b[1;32m      3\u001b[0m \u001b[0mc\u001b[0m\u001b[0;34m.\u001b[0m\u001b[0mfit\u001b[0m\u001b[0;34m(\u001b[0m\u001b[0mX\u001b[0m\u001b[0;34m,\u001b[0m \u001b[0mtrue_labels\u001b[0m\u001b[0;34m)\u001b[0m\u001b[0;34m\u001b[0m\u001b[0;34m\u001b[0m\u001b[0m\n\u001b[0;32m----> 4\u001b[0;31m \u001b[0mvisualize\u001b[0m\u001b[0;34m(\u001b[0m\u001b[0mX\u001b[0m\u001b[0;34m,\u001b[0m \u001b[0mtrue_labels\u001b[0m\u001b[0;34m,\u001b[0m \u001b[0mnp\u001b[0m\u001b[0;34m.\u001b[0m\u001b[0marray\u001b[0m\u001b[0;34m(\u001b[0m\u001b[0mc\u001b[0m\u001b[0;34m.\u001b[0m\u001b[0mpredict\u001b[0m\u001b[0;34m(\u001b[0m\u001b[0mX\u001b[0m\u001b[0;34m)\u001b[0m\u001b[0;34m)\u001b[0m\u001b[0;34m,\u001b[0m \u001b[0mc\u001b[0m\u001b[0;34m.\u001b[0m\u001b[0mgetw\u001b[0m\u001b[0;34m(\u001b[0m\u001b[0;34m)\u001b[0m\u001b[0;34m)\u001b[0m\u001b[0;34m\u001b[0m\u001b[0;34m\u001b[0m\u001b[0m\n\u001b[0m\u001b[1;32m      5\u001b[0m \u001b[0;34m\u001b[0m\u001b[0m\n",
      "\u001b[0;31mNameError\u001b[0m: name 'visualize' is not defined"
     ],
     "ename": "NameError",
     "evalue": "name 'visualize' is not defined",
     "output_type": "error"
    }
   ],
   "source": [
    "X, true_labels = make_blobs(400, 2, centers=[[0, 0], [2.5, 2.5]])\n",
    "c = Perceptron()\n",
    "c.fit(X, true_labels)\n",
    "visualize(X, true_labels, np.array(c.predict(X)), c.getw())"
   ]
  },
  {
   "cell_type": "code",
   "execution_count": null,
   "metadata": {
    "colab": {},
    "colab_type": "code",
    "id": "ragnvu4i5tLd",
    "scrolled": false,
    "pycharm": {
     "is_executing": false
    }
   },
   "outputs": [],
   "source": [
    "X, true_labels = make_moons(400, noise=0.075)\n",
    "c = Perceptron()\n",
    "c.fit(X, true_labels)\n",
    "visualize(X, true_labels, np.array(c.predict(X)), c.getw())"
   ]
  },
  {
   "cell_type": "markdown",
   "metadata": {
    "colab_type": "text",
    "id": "pbY9ZpRF5tLf"
   },
   "source": [
    "### Задание 2 (2 балл)\n",
    "Проблема обычной реализации перцептрона в том, что закончить его обучение мы можем с неоптимальными весами, т.к. точность разбиения в зависимости от числа итераций не растет монотонно. Чтобы этого избежать, мы можем оставлять в конце веса той итерации, на которой мы лучше всего разбивали множество `X`.\n",
    "\n",
    "#### Методы\n",
    "`predict(X)` - возвращает предсказанные метки для элементов выборки `X`\n",
    "\n",
    "`fit(X, y)` - инициализирует веса перцептрона, а затем обновляет их в течении `iterations` итераций. В конце обучения оставляет лучшие веса. \n",
    "\n",
    "#### Параметры конструктора\n",
    "`iterations` - количество итераций обучения перцептрона\n",
    "\n",
    "#### Поля\n",
    "`w` - веса перцептрона размерности `X.shape[1] + 1`. `w[0]` должен соответстовать константе, `w[1:]` - коэффициентам компонент элемента `X`."
   ]
  },
  {
   "cell_type": "code",
   "execution_count": null,
   "metadata": {
    "colab": {},
    "colab_type": "code",
    "id": "ny1gXuuE5tLf",
    "pycharm": {
     "is_executing": false
    }
   },
   "outputs": [],
   "source": [
    "class PerceptronBest:\n",
    "    def __init__(self, iterations=100):\n",
    "        self.iterations = iterations\n",
    "        self.X = None\n",
    "        self.y = None\n",
    "        self.w = None\n",
    "        self.maxs = None\n",
    "        self.mins = None\n",
    "        self.besterror = None\n",
    "        self.bestw = None\n",
    "\n",
    "    def iteration(self):\n",
    "        wrongs = [i for i in range(len(self.X)) if self.y[i] * np.dot(self.w, self.X[i]) < 0]\n",
    "        if len(wrongs) < self.besterror:\n",
    "            self.besterror = len(wrongs)\n",
    "            self.bestw = self.w\n",
    "        index = np.random.choice(wrongs)\n",
    "        self.w = self.w + self.y[index] * self.X[index]\n",
    "\n",
    "    def normalise(self, x):\n",
    "        return np.hstack(([1], (x - self.mins) / (self.maxs - self.mins)))\n",
    "\n",
    "    def fit(self, X, y):\n",
    "        self.maxs = np.array([np.max(X[:, j]) for j in range(X.shape[1])])\n",
    "        self.mins = np.array([np.min(X[:, j]) for j in range(X.shape[1])])\n",
    "        self.X = np.array(\n",
    "            [self.normalise(x) for x in X])\n",
    "        self.y = (y * 2) - 1\n",
    "        self.w = np.random.random((X.shape[1] + 1))\n",
    "        self.bestw = self.w\n",
    "        self.besterror = len(X)\n",
    "        for i in range(self.iterations):\n",
    "            self.iteration()\n",
    "        self.w = self.bestw\n",
    "\n",
    "    def predict(self, X):\n",
    "        return (1 + np.array([np.sign(np.dot(self.w, self.normalise(x))) for x in X])) / 2\n",
    "\n",
    "    def getw(self):\n",
    "        w1 = self.w[1:] / (self.maxs - self.mins)\n",
    "        return np.hstack(([self.w[0] - np.dot(w1, self.mins)], w1))\n"
   ]
  },
  {
   "cell_type": "code",
   "execution_count": null,
   "metadata": {
    "colab": {},
    "colab_type": "code",
    "id": "hmtKQzwf5tLh",
    "pycharm": {
     "is_executing": false
    }
   },
   "outputs": [],
   "source": [
    "def visualize(X, labels_true, labels_pred, w):\n",
    "    unique_labels = np.unique(labels_true)\n",
    "    unique_colors = dict([(l, c) for l, c in zip(unique_labels, [[0.8, 0., 0.], [0., 0., 0.8]])])\n",
    "    plt.figure(figsize=(9, 9))\n",
    "\n",
    "    if w[1] == 0:\n",
    "        plt.plot([X[:, 0].min(), X[:, 0].max()], w[0] / w[2])\n",
    "    elif w[2] == 0:\n",
    "        plt.plot(w[0] / w[1], [X[:, 1].min(), X[:, 1].max()])  \n",
    "    else:\n",
    "        mins, maxs = X.min(axis=0), X.max(axis=0)\n",
    "        pts = [[mins[0], -mins[0] * w[1] / w[2] - w[0] / w[2]],\n",
    "               [maxs[0], -maxs[0] * w[1] / w[2] - w[0] / w[2]],\n",
    "               [-mins[1] * w[2] / w[1] - w[0] / w[1], mins[1]],\n",
    "               [-maxs[1] * w[2] / w[1] - w[0] / w[1], maxs[1]]]\n",
    "        pts = [(x, y) for x, y in pts if mins[0] <= x <= maxs[0] and mins[1] <= y <= maxs[1]]\n",
    "        x, y = list(zip(*pts))\n",
    "        plt.plot(x, y, c=(0.75, 0.75, 0.75), linestyle=\"--\")\n",
    "    \n",
    "    colors_inner = [unique_colors[l] for l in labels_true]\n",
    "    colors_outer = [unique_colors[l] for l in labels_pred]\n",
    "    plt.scatter(X[:, 0], X[:, 1], c=colors_inner, edgecolors=colors_outer)\n",
    "    plt.show()"
   ]
  },
  {
   "cell_type": "markdown",
   "metadata": {
    "colab_type": "text",
    "id": "7L7zIVOo5tLj"
   },
   "source": [
    "Посмотрим на то, как наш перцептрон справляется с различными наборами данных"
   ]
  },
  {
   "cell_type": "code",
   "execution_count": null,
   "metadata": {
    "colab": {},
    "colab_type": "code",
    "id": "BdDhNXzN5tLj",
    "pycharm": {
     "is_executing": false
    }
   },
   "outputs": [],
   "source": [
    "X, true_labels = make_blobs(400, 2, centers=[[0, 0], [2.5, 2.5]])\n",
    "c = PerceptronBest()\n",
    "c.fit(X, true_labels)\n",
    "visualize(X, true_labels, np.array(c.predict(X)), c.getw())"
   ]
  },
  {
   "cell_type": "code",
   "execution_count": null,
   "metadata": {
    "colab": {},
    "colab_type": "code",
    "id": "16QOP3lr5tLl",
    "pycharm": {
     "is_executing": false
    }
   },
   "outputs": [],
   "source": [
    "X, true_labels = make_moons(400, noise=0.075)\n",
    "c = PerceptronBest()\n",
    "c.fit(X, true_labels)\n",
    "visualize(X, true_labels, np.array(c.predict(X)), c.getw())"
   ]
  },
  {
   "cell_type": "markdown",
   "metadata": {
    "colab_type": "text",
    "id": "xrwigZDy5tLn"
   },
   "source": [
    "### Задание 3 (1 балл)\n",
    "Реализуйте метод `transform_images(images)`, который преобразует изображения в двумерные векторы. Значение компонент векторов придумайте сами и напишите в виде комментария к методу."
   ]
  },
  {
   "cell_type": "code",
   "execution_count": null,
   "metadata": {
    "colab": {},
    "colab_type": "code",
    "id": "aaSoxlDE5tLo",
    "pycharm": {
     "is_executing": false
    }
   },
   "outputs": [],
   "source": [
    "#считает среднее p(1-p) где p = доля единиц в столбце. Центральные столбцы учитываются с большим весом\n",
    "def first_feature(image):\n",
    "    rounded = np.array([[round(p) for p in v] for v in image])\n",
    "    count = np.array([rounded[:, j].tolist().count(1) for j in range(8)]) / 8\n",
    "    weights = [0.0, 0.1, 0.2, 0.2, 0.2, 0.2, 0.1, 0.0]\n",
    "    return np.dot(weights, 4 * count * (1 - count))\n",
    "\n",
    "#считает для всех точек = 0 колво единиц над точкой * колво единиц под точкой\n",
    "def second_feature(image):\n",
    "    sum = 0\n",
    "    rounded = np.array([[round(p) for p in v] for v in image])\n",
    "    for j in range(8):\n",
    "        for i in range(8):\n",
    "            s1 = np.sum(rounded[:i, j])\n",
    "            s2 = np.sum(rounded[i + 1:, j])\n",
    "            sum += (1 - rounded[i, j]) * s1 * s2\n",
    "    return sum\n",
    "\n",
    "\n",
    "def transform_images(images):\n",
    "    return np.array([[first_feature(x), second_feature(x)] for x in images])\n",
    "\n",
    "def get_digits(y0=1, y1=5):\n",
    "    data = datasets.load_digits()\n",
    "    images, labels = data.images, data.target\n",
    "    mask = np.logical_or(labels == y0, labels == y1)\n",
    "    labels = labels[mask]\n",
    "    images = images[mask]\n",
    "    images /= np.max(images)\n",
    "    labels = np.array([(x - y0) // (y1-y0) for x in labels])\n",
    "    X = transform_images(images)\n",
    "    return X, labels"
   ]
  },
  {
   "cell_type": "markdown",
   "metadata": {
    "colab_type": "text",
    "id": "4c0Vkwks5tLq"
   },
   "source": [
    "### Задание 4 (4 балла)\n",
    "Теперь посмотрим на точность обычного перцептрона и перцептрона выбором лучшей итерации. Для тестирования будем использовать цифры 1 и 5. Необходимо использовать реализованное выше преобразование, т.е. только векторы из 2х признаков. \n",
    "\n",
    "Оценка за это задание выставляется следующим образом:\n",
    "1. 1 балл - что-то обучается, картинки рисуются\n",
    "2. 2 балла - точность хотя бы одного из классификаторов на тестовой выборке больше 80%\n",
    "3. 4 балла - точность хотя бы одного из классификаторов на тестовой выборке больше 90%\n",
    "\n",
    "__Обратите внимание, что выборка разбивается детерминировано, т.е. неи смысла считать среднюю точность__ "
   ]
  },
  {
   "cell_type": "code",
   "execution_count": null,
   "metadata": {
    "colab": {},
    "colab_type": "code",
    "id": "_eGeIq5I5tLq",
    "pycharm": {
     "is_executing": false
    }
   },
   "outputs": [],
   "source": [
    "X, y = get_digits()\n",
    "\n",
    "X_train, X_test, y_train, y_test = train_test_split(X, y, train_size=0.8, shuffle=False)"
   ]
  },
  {
   "cell_type": "code",
   "execution_count": null,
   "metadata": {
    "colab": {},
    "colab_type": "code",
    "id": "InfJDc6p5tLt",
    "pycharm": {
     "is_executing": false
    }
   },
   "outputs": [],
   "source": [
    "c = Perceptron(iterations=100000)\n",
    "c.fit(X_train, y_train)\n",
    "visualize(X_train, y_train, np.array(c.predict(X_train)), c.getw())\n",
    "print(\"Accuracy:\", np.mean(c.predict(X_test) == y_test))"
   ]
  },
  {
   "cell_type": "code",
   "execution_count": null,
   "metadata": {
    "colab": {},
    "colab_type": "code",
    "id": "OHlaGhdq5tLu",
    "pycharm": {
     "is_executing": false
    }
   },
   "outputs": [],
   "source": [
    "c = PerceptronBest(iterations=100000)\n",
    "c.fit(X_train, y_train)\n",
    "visualize(X_train, y_train, np.array(c.predict(X_train)), c.getw())\n",
    "print(\"Accuracy:\", np.mean(c.predict(X_test) == y_test))"
   ]
  },
  {
   "cell_type": "markdown",
   "metadata": {
    "colab_type": "text",
    "id": "IYbrE9JZ5tLw"
   },
   "source": [
    "А теперь посчитаем среднюю точность по всем возможным парам цифр"
   ]
  },
  {
   "cell_type": "code",
   "execution_count": null,
   "metadata": {
    "colab": {},
    "colab_type": "code",
    "id": "fgeo9IB75tLx",
    "scrolled": true,
    "pycharm": {
     "is_executing": false
    }
   },
   "outputs": [],
   "source": [
    "accs = []\n",
    "for y0, y1 in [(y0, y1) for y0 in range(9) for y1 in range(y0+1, 10)]:\n",
    "    X, y = get_digits(y0, y1)\n",
    "    X_train, X_test, y_train, y_test = train_test_split(X, y, train_size=0.8, shuffle=False)\n",
    "    c = Perceptron(iterations=20000)\n",
    "    c.fit(X_train, y_train)\n",
    "    accs.append(np.mean(c.predict(X_test) == y_test))\n",
    "print(\"Mean accuracy:\", np.mean(accs))"
   ]
  },
  {
   "cell_type": "code",
   "execution_count": null,
   "metadata": {
    "colab": {},
    "colab_type": "code",
    "id": "NP-EHvDj5tLz",
    "scrolled": true,
    "pycharm": {
     "is_executing": false
    }
   },
   "outputs": [],
   "source": [
    "accs = []\n",
    "for y0, y1 in [(y0, y1) for y0 in range(9) for y1 in range(y0+1, 10)]:\n",
    "    X, y = get_digits(y0, y1)\n",
    "    X_train, X_test, y_train, y_test = train_test_split(X, y, train_size=0.8, shuffle=False)\n",
    "    c = PerceptronBest(iterations=20000)\n",
    "    c.fit(X_train, y_train)\n",
    "    accs.append(np.mean(c.predict(X_test) == y_test))\n",
    "print(\"Mean accuracy:\", np.mean(accs))"
   ]
  },
  {
   "cell_type": "code",
   "execution_count": null,
   "metadata": {
    "colab": {},
    "colab_type": "code",
    "id": "NdWYqU3t5tL1",
    "pycharm": {
     "is_executing": false
    }
   },
   "outputs": [],
   "source": []
  }
 ],
 "metadata": {
  "colab": {
   "collapsed_sections": [],
   "name": "hw05_task.ipynb",
   "provenance": []
  },
  "kernelspec": {
   "name": "pycharm-9a3aaef0",
   "language": "python",
   "display_name": "PyCharm (PyProject1)"
  },
  "language_info": {
   "codemirror_mode": {
    "name": "ipython",
    "version": 3
   },
   "file_extension": ".py",
   "mimetype": "text/x-python",
   "name": "python",
   "nbconvert_exporter": "python",
   "pygments_lexer": "ipython3",
   "version": "3.7.3"
  }
 },
 "nbformat": 4,
 "nbformat_minor": 1
}