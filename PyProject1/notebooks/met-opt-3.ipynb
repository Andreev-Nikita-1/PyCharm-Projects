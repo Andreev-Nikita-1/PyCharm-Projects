{
 "cells": [
  {
   "cell_type": "markdown",
   "metadata": {},
   "source": [
    "# Домашнее задание 3\n",
    "### Андреев Никита"
   ]
  },
  {
   "cell_type": "code",
   "execution_count": 2,
   "metadata": {
    "pycharm": {
     "is_executing": false,
     "name": "#%%\n"
    }
   },
   "outputs": [],
   "source": [
    "import sys\n",
    "import time\n",
    "import matplotlib.pyplot as plt\n",
    "import pylab\n",
    "import numpy as np\n",
    "import scipy\n",
    "import scipy.optimize as opt\n",
    "import scipy.sparse\n",
    "import sklearn.datasets"
   ]
  },
  {
   "cell_type": "markdown",
   "metadata": {},
   "source": [
    "Функции оракулов:"
   ]
  },
  {
   "cell_type": "code",
   "execution_count": 3,
   "metadata": {
    "pycharm": {
     "is_executing": false
    }
   },
   "outputs": [],
   "source": [
    "def sigmoid(x):\n",
    "    return 1 / (1 + np.exp(-x))\n",
    "\n",
    "\n",
    "def oracle(w, X, labels, order=0, no_function=False):\n",
    "    Xw = X.dot(w)\n",
    "    sigmoids = [sigmoid(l * xw) for xw, l in zip(Xw, labels)]\n",
    "\n",
    "    f = 0\n",
    "    if not no_function:\n",
    "        f = -1 / X.shape[0] * np.sum([np.log(s) for s in sigmoids])\n",
    "\n",
    "    if order == 0:\n",
    "        return f\n",
    "\n",
    "    grad_coeffs = np.array([l * (1 - s) for s, l in zip(sigmoids, labels)])\n",
    "    X1 = X.multiply(grad_coeffs.reshape(-1, 1))\n",
    "    g = -1 / X.shape[0] * np.array(X1.sum(axis=0)).reshape(X.shape[1])\n",
    "\n",
    "    if order == 1:\n",
    "        return f, g, 0\n",
    "\n",
    "    hess_coeffs = np.array([s * (1 - s) for s in sigmoids])\n",
    "    h = lambda v: 1 / X.shape[0] * X.transpose().dot(X.dot(v) * hess_coeffs)\n",
    "\n",
    "    if order == 2:\n",
    "        return f, g, h"
   ]
  },
  {
   "cell_type": "markdown",
   "metadata": {},
   "source": [
    "## В качестве данных впредь будем использовать три датасета:"
   ]
  },
  {
   "cell_type": "markdown",
   "metadata": {},
   "source": [
    "a1a:"
   ]
  },
  {
   "cell_type": "code",
   "execution_count": 4,
   "metadata": {},
   "outputs": [],
   "source": [
    "a1a = sklearn.datasets.load_svmlight_file('../data/a1a.txt')\n",
    "X = a1a[0]\n",
    "dummy = scipy.sparse.csr_matrix([[1] for i in range(X.shape[0])])\n",
    "X_a1a = scipy.sparse.hstack([X, dummy])\n",
    "labels_a1a = a1a[1]"
   ]
  },
  {
   "cell_type": "markdown",
   "metadata": {},
   "source": [
    "breast cancer: (координаты нормированы от -1 до 1)"
   ]
  },
  {
   "cell_type": "code",
   "execution_count": 5,
   "metadata": {},
   "outputs": [],
   "source": [
    "breast_cancer = sklearn.datasets.load_svmlight_file('../data/breast-cancer_scale.txt')\n",
    "X = breast_cancer[0]\n",
    "dummy = scipy.sparse.csr_matrix([[1] for i in range(X.shape[0])])\n",
    "X_cancer = scipy.sparse.hstack([X, dummy])\n",
    "labels_cancer = breast_cancer[1]-3"
   ]
  },
  {
   "cell_type": "markdown",
   "metadata": {},
   "source": [
    "Случайный сгенерированный:"
   ]
  },
  {
   "cell_type": "code",
   "execution_count": 6,
   "metadata": {},
   "outputs": [],
   "source": [
    "def random_dataset(alpha, beta):\n",
    "    xs = np.random.normal(size=(1000, alpha.shape[0]))\n",
    "    labels = np.array([np.sign(np.dot(alpha, x) + beta) for x in xs])\n",
    "    return xs, labels\n"
   ]
  },
  {
   "cell_type": "code",
   "execution_count": 7,
   "metadata": {},
   "outputs": [],
   "source": [
    "alpha = 2 * np.random.random(11) - 1\n",
    "X, labels_rand = random_dataset(alpha[:-1], alpha[-1])\n",
    "dummy = scipy.sparse.csr_matrix([[1] for i in range(X.shape[0])])\n",
    "X_rand = scipy.sparse.hstack([X, dummy])"
   ]
  },
  {
   "cell_type": "markdown",
   "metadata": {},
   "source": [
    "#### Методы из дз 2:"
   ]
  },
  {
   "cell_type": "code",
   "execution_count": 21,
   "metadata": {},
   "outputs": [],
   "source": [
    "def golden_search_bounded(fun, a0, b0, eps=100*sys.float_info.epsilon, args=()):\n",
    "    ratio = (1 + 5 ** 0.5) / 2\n",
    "\n",
    "    def step(a, b, c, fc, onumber):\n",
    "        if b - a < eps:\n",
    "            return a, fun(a, *args), onumber + 1\n",
    "        else:\n",
    "            d = a + b - c\n",
    "            fd = fun(d)\n",
    "            if c > d:\n",
    "                c, d = d, c\n",
    "                fc, fd = fd, fc\n",
    "            if fc < fd:\n",
    "                return step(a, d, c, fc, onumber + 1)\n",
    "            else:\n",
    "                return step(c, b, d, fd, onumber + 1)\n",
    "\n",
    "    c0 = a0 + (b0 - a0) / ratio\n",
    "    solution = step(a0, b0, c0, fun(c0, *args), 0)\n",
    "    return solution[0], solution[2]\n",
    "\n",
    "\n",
    "def golden_search(fun, eps=100*sys.float_info.epsilon, args=()):\n",
    "    a, _, b, _, _, _, onumber = opt.bracket(fun, args=args)\n",
    "    if b < a:\n",
    "        a, b = b, a\n",
    "    gsb = golden_search_bounded(fun, a, b, eps=eps, args=args)\n",
    "    return gsb[0], gsb[1] + onumber\n",
    "\n",
    "\n",
    "def armiho(fun, c=0.1, k=10, f0=None, df0=None):\n",
    "    x = 1\n",
    "    oracle = 0\n",
    "\n",
    "    if f0 == None:\n",
    "        f0 = fun(0)\n",
    "        oracle += 1\n",
    "\n",
    "    if df0 is None:\n",
    "        df0 = der(fun, 0)\n",
    "        oracle += 2\n",
    "\n",
    "    fx = fun(x)\n",
    "    fkx = fun(k * x) \n",
    "    oracle += 2\n",
    "\n",
    "    while True:\n",
    "        if fx > f0 + c * df0 * x:\n",
    "            x /= k\n",
    "            fkx = fx\n",
    "            fx = fun(x)\n",
    "            oracle += 1\n",
    "        elif fkx < f0 + k * c * df0 * x:\n",
    "            x *= k\n",
    "            fx = fkx\n",
    "            fkx = fun(k*x)\n",
    "            oracle += 1\n",
    "        else:\n",
    "            break\n",
    "\n",
    "    return x, fx, oracle\n",
    "\n",
    "\n",
    "def nester(fun, f0, d, L0=1):\n",
    "    L = L0\n",
    "    oracle = 0\n",
    "    fx = fun(1 / L)\n",
    "    oracle += 1\n",
    "    \n",
    "    while fx > f0 - 1 / (2 * L) * np.dot(d, d):\n",
    "        L *= 2\n",
    "        fx = fun(1 / L)\n",
    "        oracle += 1\n",
    "    \n",
    "\n",
    "    return L, fx, oracle\n"
   ]
  },
  {
   "cell_type": "markdown",
   "metadata": {},
   "source": [
    "Решение системы через разложение Холецкого:"
   ]
  },
  {
   "cell_type": "code",
   "execution_count": 13,
   "metadata": {},
   "outputs": [],
   "source": [
    "def solveCholesky(h, d, eps=0.0001):\n",
    "    G = np.array([h(x) for x in np.eye(d.shape[0])])\n",
    "    if np.linalg.matrix_rank(G) < G.shape[0]:\n",
    "        G = G + eps * np.eye(G.shape[0])\n",
    "    L = np.linalg.cholesky(G)\n",
    "    Ltx = scipy.linalg.solve_triangular(L, d, lower=True)\n",
    "    return scipy.linalg.solve_triangular(np.transpose(L), Ltx, lower=False)"
   ]
  },
  {
   "cell_type": "markdown",
   "metadata": {},
   "source": [
    "### Неточный метод сопряжённых градиентов:"
   ]
  },
  {
   "cell_type": "code",
   "execution_count": null,
   "metadata": {},
   "outputs": [],
   "source": [
    "def solveCG(h, b, eta=0.01, policy='sqrtGradNorm'):\n",
    "    b_norm = np.linalg.norm(b)\n",
    "    if policy == 'sqrtGradNorm':\n",
    "        pol = np.sqrt(b_norm)\n",
    "    elif policy == 'gradNorm':\n",
    "        pol = b_norm\n",
    "    elif policy == 'const':\n",
    "        pol = 1\n",
    "\n",
    "    eps = eta * pol * b_norm\n",
    "    x0 = np.random.random(b.shape[0]) * b_norm\n",
    "    r = b - h(x0)\n",
    "    p = r\n",
    "    x = x0\n",
    "\n",
    "    while True:\n",
    "        rr = r.dot(r)\n",
    "        hp = h(p)\n",
    "        alpha = rr / np.dot(p, hp)\n",
    "        x += alpha * p\n",
    "        r -= alpha * hp\n",
    "        print(np.linalg.norm(r))\n",
    "        if np.linalg.norm(r) < eps:\n",
    "            return x\n",
    "        beta = r.dot(r) / rr\n",
    "        p = r + beta * p"
   ]
  },
  {
   "cell_type": "markdown",
   "metadata": {},
   "source": [
    "## Градиентный спуск и метод Ньютона:\n",
    "\n",
    "Разница только в выборе направления - поэтому всё в одном методе\n",
    "\n",
    "Параметры:\n",
    "\n",
    "1. oracle - оракул\n",
    "2. start - начальная точка\n",
    "3. method - 'gradient descent' или 'newton'\n",
    "4. __linear_solver - 'cg' или 'cholesky'__\n",
    "5. __solver_kwargs - аргументы для linear_solver__\n",
    "6. one_dim_search - способ выбора шага:\n",
    "    'unit step',\n",
    "    'brent',\n",
    "    'golden',\n",
    "    'armiho',\n",
    "    'nester',\n",
    "    'wolf',\n",
    "    или пользовательский метод\n",
    "7. args - аргументы для оракула (X, labels, outers(опционально))\n",
    "8. search_kwargs - аргументы для метода одномерной оптимизации\n",
    "9. условие(я) остановки: epsilon, max_iter, max_time, max_oracle\n",
    "\n",
    "\n",
    "Возвращает:\n",
    "\n",
    "1. x - результат\n",
    "2. iterations - range от 0 до количества итераций\n",
    "3. times - массив времён от начала вычисления до текущего шага\n",
    "4. values - массив значений функции\n",
    "5. grad_ratios - массив отношений $||\\nabla f(w_k)||^2/||\\nabla f(w_0)||^2$\n",
    "6. fcalls - масиив количества вызовов функции на каждой итерации\n",
    "7. gcalls - аналогично для градиента\n",
    "8. hcalls - аналогично для гессиана\n",
    "\n",
    "В реализации в main.py возвращаются только последние элементы перечисленных массивов"
   ]
  },
  {
   "cell_type": "code",
   "execution_count": 14,
   "metadata": {},
   "outputs": [],
   "source": [
    "def optimization_task(oracle, start, method='gradient descent', linear_solver='cg', solver_kwargs=dict([]),\n",
    "                      one_dim_search=None, args=(), search_kwargs=dict([]),\n",
    "                      epsilon=0, max_iter=float('inf'), max_time=float('inf')):\n",
    "    iterations, fcalls, gcalls, hcalls, times, values, grad_ratios = [], [], [], [], [], [], []\n",
    "    start_time, k, fc, gc, hc = time.time(), 0, 0, 0, 0\n",
    "    x = start\n",
    "\n",
    "    if method == 'gradient descent':\n",
    "        ord = 1\n",
    "        if one_dim_search is None:\n",
    "            one_dim_search = 'brent'\n",
    "    elif method == 'newton':\n",
    "        ord = 2\n",
    "        if one_dim_search is None:\n",
    "            one_dim_search = 'unit step'\n",
    "\n",
    "    f0, g0, _ = oracle(x, *args, order=1)\n",
    "    fc += 1\n",
    "    gc += 1\n",
    "    fk = f0\n",
    "\n",
    "    if one_dim_search == 'nester':\n",
    "        L, L0 = 2, 0\n",
    "        if 'L0' in search_kwargs.keys():\n",
    "            L0 = 2 * search_kwargs['L0']\n",
    "            L = L0\n",
    "\n",
    "    flag = one_dim_search == 'armiho' or one_dim_search == 'wolf' or one_dim_search == 'nester'\n",
    "\n",
    "    while True:\n",
    "        f_, gk, hk = oracle(x, *args, order=ord, no_function=flag)\n",
    "        # в реализации в main.py всегда стоит флаг no_function\n",
    "        if not flag:\n",
    "            fk = f_\n",
    "            fc += 1\n",
    "        gc += 1\n",
    "        if ord == 2:\n",
    "            hc += 1\n",
    "\n",
    "        if method == 'gradient descent':\n",
    "            d = -gk\n",
    "        elif method == 'newton':\n",
    "            if linear_solver == 'cg':\n",
    "                d = solveCG(hk, -gk, **solver_kwargs)\n",
    "            elif linear_solver == 'cholesky':\n",
    "                d = solveCholesky(hk, -gk, **solver_kwargs)\n",
    "\n",
    "        ratio = np.dot(gk, gk) / np.dot(g0, g0)\n",
    "        iterations.append(k)\n",
    "        k += 1\n",
    "        fcalls.append(fc)\n",
    "        gcalls.append(gc)\n",
    "        hcalls.append(hc)\n",
    "        times.append(time.time() - start_time)\n",
    "        values.append(fk)\n",
    "        grad_ratios.append(ratio)\n",
    "\n",
    "        if ratio <= epsilon or k > max_iter or times[-1] > max_time:\n",
    "            break\n",
    "\n",
    "        fun = lambda alpha: oracle(x + d * alpha, *args)\n",
    "\n",
    "        if one_dim_search == 'unit step':\n",
    "            alpha = 1\n",
    "        elif one_dim_search == 'golden':\n",
    "            alpha, oracle_counter = golden_search(fun, **search_kwargs)\n",
    "            fc += oracle_counter\n",
    "        elif one_dim_search == 'brent':\n",
    "            solution = opt.minimize_scalar(fun)\n",
    "            alpha = solution['x']\n",
    "            fc += solution['nfev']\n",
    "        elif one_dim_search == 'armiho':\n",
    "            alpha, fk, oracle_counter = armiho(fun, **search_kwargs, f0=fk, df0=np.dot(gk, d))\n",
    "            fc += oracle_counter\n",
    "        elif one_dim_search == 'wolf':\n",
    "            f_for_wolf = lambda z: oracle(z, *args)\n",
    "            g_for_wolf = lambda z: oracle(z, *args, order=1, no_function=True)[1]\n",
    "            solution = opt.line_search(f_for_wolf, g_for_wolf, x, d, **search_kwargs, gfk=gk, old_fval=fk)\n",
    "            alpha = solution[0]\n",
    "            if alpha == None:\n",
    "                alpha = 1\n",
    "            fc += solution[1]\n",
    "            gc += solution[2]\n",
    "            fk = solution[3]\n",
    "            if fk == None:\n",
    "                fk = fun(1)\n",
    "        elif one_dim_search == 'nester':\n",
    "            L, fk, oracle_counter = nester(fun, fk, gk, L0=max(L / 2, L0))\n",
    "            alpha = 1 / L\n",
    "            fc += oracle_counter\n",
    "        else:\n",
    "            alpha = one_dim_search(fun, *args)\n",
    "\n",
    "        x = x + d * alpha\n",
    "\n",
    "    return x, iterations, times, values, grad_ratios, fcalls, gcalls, hcalls"
   ]
  },
  {
   "cell_type": "markdown",
   "metadata": {},
   "source": [
    "#### Метод для построения нескольких графиков логарифмов функций"
   ]
  },
  {
   "cell_type": "code",
   "execution_count": 15,
   "metadata": {},
   "outputs": [],
   "source": [
    "def graph_several(xs, ys, labels, end=None, beg=0, x_l=None, y_l=None, title=None):\n",
    "    pylab.rcParams['figure.figsize'] = 15, 7\n",
    "    pylab.subplot(1, 1, 1)\n",
    "    if end is None:\n",
    "        end = max([max(x) for x in xs])\n",
    "    ends = [np.argmin([np.abs(p - end) for p in x]) for x in xs]\n",
    "    begs = [np.argmin([np.abs(p - beg) for p in x]) for x in xs]\n",
    "    xs1 = [xs[i][begs[i]:ends[i]+1] for i in range(len(xs))]\n",
    "    ys1 = [ys[i][begs[i]:ends[i]+1] for i in range(len(xs))]\n",
    "\n",
    "    def logs(y):\n",
    "        return [np.log(v) for v in y]\n",
    "\n",
    "    for i in range(len(xs)):\n",
    "        pylab.plot(xs1[i], logs(ys1[i]), label=labels[i])\n",
    "\n",
    "    pylab.title(title)\n",
    "    pylab.xlabel(x_l)\n",
    "    pylab.ylabel(y_l)\n",
    "    pylab.grid()\n",
    "    pylab.legend()\n",
    "    pylab.show()"
   ]
  },
  {
   "cell_type": "code",
   "execution_count": 16,
   "metadata": {},
   "outputs": [],
   "source": [
    "def graph_several2(xs, ys, labels, end1=None, beg1=0, end2=None, beg2=0, x_l=None, y_l=None, title=None):\n",
    "    pylab.rcParams['figure.figsize'] = 15, 7\n",
    "    pylab.subplot(1, 2, 1)\n",
    "    if end1 is None:\n",
    "        end1 = max([max(x) for x in xs])\n",
    "    ends = [np.argmin([np.abs(p - end1) for p in x]) for x in xs]\n",
    "    begs = [np.argmin([np.abs(p - beg1) for p in x]) for x in xs]\n",
    "    xs1 = [xs[i][begs[i]:ends[i]+1] for i in range(len(xs))]\n",
    "    ys1 = [ys[i][begs[i]:ends[i]+1] for i in range(len(xs))]\n",
    "\n",
    "    def logs(y):\n",
    "        return [np.log(v) for v in y]\n",
    "\n",
    "    for i in range(len(xs)):\n",
    "        pylab.plot(xs1[i], logs(ys1[i]), label=labels[i])\n",
    "\n",
    "    pylab.title(title)\n",
    "    pylab.xlabel(x_l)\n",
    "    pylab.ylabel(y_l)\n",
    "    pylab.grid()\n",
    "    pylab.legend()\n",
    "    \n",
    "    pylab.subplot(1, 2, 2)\n",
    "    if end2 is None:\n",
    "        end2 = max([max(x) for x in xs])\n",
    "    ends = [np.argmin([np.abs(p - end2) for p in x]) for x in xs]\n",
    "    begs = [np.argmin([np.abs(p - beg2) for p in x]) for x in xs]\n",
    "    xs1 = [xs[i][begs[i]:ends[i]+1] for i in range(len(xs))]\n",
    "    ys1 = [ys[i][begs[i]:ends[i]+1] for i in range(len(xs))]\n",
    "\n",
    "    def logs(y):\n",
    "        return [np.log(v) for v in y]\n",
    "\n",
    "    for i in range(len(xs)):\n",
    "        pylab.plot(xs1[i], logs(ys1[i]), label=labels[i])\n",
    "\n",
    "    pylab.title(title)\n",
    "    pylab.xlabel(x_l)\n",
    "    pylab.ylabel(y_l)\n",
    "    pylab.grid()\n",
    "    pylab.legend()\n",
    "    \n",
    "    pylab.show()"
   ]
  },
  {
   "cell_type": "markdown",
   "metadata": {},
   "source": [
    "#### Минимальные значения функций с помощью встроенных методов:"
   ]
  },
  {
   "cell_type": "code",
   "execution_count": 17,
   "metadata": {},
   "outputs": [
    {
     "name": "stdout",
     "output_type": "stream",
     "text": [
      "a1a function minimum = 0.29787631704325707\n"
     ]
    }
   ],
   "source": [
    "w0_a1a = (2 * np.random.random(X_a1a.shape[1]) - 1) / 2\n",
    "#начальная точка\n",
    "\n",
    "w_true_a1a = opt.minimize(function, w0_a1a, args=(X_a1a, labels_a1a), jac = gradient)['x']\n",
    "\n",
    "f_min_a1a = function(w_true_a1a, X_a1a, labels_a1a)\n",
    "print('a1a function minimum =', f_min_a1a)"
   ]
  },
  {
   "cell_type": "code",
   "execution_count": 18,
   "metadata": {},
   "outputs": [
    {
     "name": "stdout",
     "output_type": "stream",
     "text": [
      "cancer function minimum = 0.07531875761320973\n"
     ]
    }
   ],
   "source": [
    "w0_cancer = (2 * np.random.random(X_cancer.shape[1]) - 1) / 2\n",
    "#начальная точка\n",
    "\n",
    "w_true_cancer = opt.minimize(function, w0_cancer, args=(X_cancer, labels_cancer), jac = gradient)['x']\n",
    "\n",
    "f_min_cancer = function(w_true_cancer, X_cancer, labels_cancer)\n",
    "print('cancer function minimum =', f_min_cancer)"
   ]
  },
  {
   "cell_type": "code",
   "execution_count": 19,
   "metadata": {},
   "outputs": [
    {
     "name": "stdout",
     "output_type": "stream",
     "text": [
      "rand function minimum = 0\n"
     ]
    }
   ],
   "source": [
    "w0_rand = (2 * np.random.random(X_rand.shape[1]) - 1) / 2\n",
    "#начальная точка\n",
    "\n",
    "\n",
    "f_min_rand = 0\n",
    "print('rand function minimum =', f_min_rand)"
   ]
  }
 ],
 "metadata": {
  "kernelspec": {
   "display_name": "Python 3",
   "language": "python",
   "name": "python3"
  },
  "language_info": {
   "codemirror_mode": {
    "name": "ipython",
    "version": 3
   },
   "file_extension": ".py",
   "mimetype": "text/x-python",
   "name": "python",
   "nbconvert_exporter": "python",
   "pygments_lexer": "ipython3",
   "version": "3.7.4"
  },
  "pycharm": {
   "stem_cell": {
    "cell_type": "raw",
    "metadata": {
     "collapsed": false
    },
    "source": []
   }
  }
 },
 "nbformat": 4,
 "nbformat_minor": 1
}
