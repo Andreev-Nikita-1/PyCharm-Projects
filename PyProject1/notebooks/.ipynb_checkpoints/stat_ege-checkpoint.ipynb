{
 "cells": [
  {
   "cell_type": "code",
   "execution_count": 4,
   "metadata": {},
   "outputs": [],
   "source": [
    "import numpy as np\n",
    "import matplotlib.pyplot as plt\n",
    "import itertools"
   ]
  },
  {
   "cell_type": "markdown",
   "metadata": {},
   "source": [
    "Построим графики (для верхней и нижней оценок): "
   ]
  },
  {
   "cell_type": "code",
   "execution_count": 19,
   "metadata": {},
   "outputs": [
    {
     "data": {
      "image/png": "[encoded data removed]",
      "text/plain": [
       "<Figure size 432x288 with 1 Axes>"
      ]
     },
     "metadata": {
      "needs_background": "light"
     },
     "output_type": "display_data"
    }
   ],
   "source": [
    "v17 = list(itertools.accumulate([7.92, 36.16, 25.09, 27.49, 3.34]))\n",
    "v18 = list(itertools.accumulate([3.85, 31.13, 32.96, 29.92, 2.13]))\n",
    "\n",
    "low17 = [0, 0, v17[0], v17[0], v17[1], v17[1], v17[2], v17[2], v17[3], v17[3], v17[4]]\n",
    "high17 = [v17[0], v17[0], v17[1], v17[1], v17[2], v17[2], v17[3], v17[3], v17[4], v17[4], v17[4]]\n",
    "\n",
    "low18 = [0, 0, v18[0], v18[0], v18[1], v18[1], v18[2], v18[2], v18[3], v18[3], v18[4]]\n",
    "high18 = [v18[0], v18[0], v18[1], v18[1], v18[2], v18[2], v18[3], v18[3], v18[4], v18[4], v18[4]]\n",
    "\n",
    "xs = [0, 20, 21, 40, 41, 60, 61, 80, 81, 100, 100]\n",
    "\n",
    "plt.plot(xs, low17, 'r')\n",
    "plt.plot(xs, high17, 'r')\n",
    "plt.plot(xs, low18, 'g', linewidth = 1)\n",
    "plt.plot(xs, high18, 'g', linewidth = 1)\n",
    "plt.show()"
   ]
  },
  {
   "cell_type": "code",
   "execution_count": 20,
   "metadata": {},
   "outputs": [
    {
     "name": "stdout",
     "output_type": "stream",
     "text": [
      "верхняя оценка супремума: 177.65086982618462\n"
     ]
    }
   ],
   "source": [
    "sup_h = max([max(high17[i] - low18[i], high18[i] - low17[i]) for i in range(len(xs))]) / 100\n",
    "print('верхняя оценка супремума:', np.sqrt(3.9 * 100000 / 2) * sup_h)"
   ]
  },
  {
   "cell_type": "code",
   "execution_count": 21,
   "metadata": {},
   "outputs": [
    {
     "name": "stdout",
     "output_type": "stream",
     "text": [
      "нижняя оценка супремума: 40.184511941791705\n"
     ]
    }
   ],
   "source": [
    "sup_l = max(low17[i] - low18[i] for i in range(len(xs))) / 100\n",
    "print('нижняя оценка супремума:', np.sqrt(3.9 * 100000 / 2) * sup_l)"
   ]
  },
  {
   "cell_type": "markdown",
   "metadata": {},
   "source": [
    "Квантиль для уровня значимости 0.05 равен 1.36, что гораздо меньше нижней оценки для супремума. Значит гипотезу можно отвергнуть"
   ]
  },
  {
   "cell_type": "code",
   "execution_count": null,
   "metadata": {},
   "outputs": [],
   "source": []
  }
 ],
 "metadata": {
  "kernelspec": {
   "display_name": "Python 3",
   "language": "python",
   "name": "python3"
  },
  "language_info": {
   "codemirror_mode": {
    "name": "ipython",
    "version": 3
   },
   "file_extension": ".py",
   "mimetype": "text/x-python",
   "name": "python",
   "nbconvert_exporter": "python",
   "pygments_lexer": "ipython3",
   "version": "3.7.4"
  }
 },
 "nbformat": 4,
 "nbformat_minor": 1
}
