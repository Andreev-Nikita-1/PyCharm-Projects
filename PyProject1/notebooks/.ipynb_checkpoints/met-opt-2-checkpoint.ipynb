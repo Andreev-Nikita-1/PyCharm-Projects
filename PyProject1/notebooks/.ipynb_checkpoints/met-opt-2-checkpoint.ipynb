{
 "cells": [
  {
   "cell_type": "markdown",
   "metadata": {},
   "source": [
    "# Домашнее задание 2\n",
    "### Андреев Никита"
   ]
  },
  {
   "cell_type": "code",
   "execution_count": 3,
   "metadata": {
    "pycharm": {
     "is_executing": false,
     "name": "#%%\n"
    }
   },
   "outputs": [],
   "source": [
    "import sys\n",
    "import time\n",
    "import matplotlib.pyplot as plt\n",
    "import numpy as np\n",
    "import scipy\n",
    "import scipy.optimize as opt\n",
    "import sklearn.datasets\n",
    "from sklearn.model_selection import train_test_split"
   ]
  },
  {
   "cell_type": "markdown",
   "metadata": {},
   "source": [
    "#### Определим функцию $\\sigma$:\n",
    "\n",
    "## $\\sigma_w(x)=\\frac{e^{w^tx}}{1+e^{w^tx}}=\\frac{1}{1+e^{-w^tx}}$\n",
    "\n",
    "Тогда\n",
    "$1-\\sigma_w(x)=1-\\frac{1}{1+e^{-w^tx}}=\\frac{1}{1+e^{w^tx}}=\\sigma_w(-x)$"
   ]
  },
  {
   "cell_type": "markdown",
   "metadata": {},
   "source": [
    "#### Функция, которую необходимо минимизировать:\n",
    "## $f(w)=-\\frac{1}{N}\\sum\\limits_1^n\\log(\\sigma_w(y_i x_i))$, $y_i =\\pm 1$"
   ]
  },
  {
   "cell_type": "markdown",
   "metadata": {},
   "source": [
    "#### Посчитаем производные:\n",
    "\n",
    "### $\\nabla\\sigma_w(x)=\\frac{e^{-w^tx}}{(1+e^{-w^tx})^2}x = \\sigma_w(x) \\sigma_w(-x)x$\n",
    "\n",
    "### $\\nabla f(w) = -\\frac{1}{N}\\sum\\limits_1^n\\sigma_w(-y_i x_i)y_i x_i$\n",
    "\n",
    "### $\\nabla^2 f(w) = \\frac{1}{N}\\sum\\limits_1^n\\sigma_w(y_i x_i)\\sigma_w(-y_i x_i)x_i x_i^t=\n",
    "\\frac{1}{N}\\sum\\limits_1^n\\sigma_w(x_i)\\sigma_w(-x_i)x_i x_i^t$"
   ]
  },
  {
   "cell_type": "code",
   "execution_count": 4,
   "metadata": {
    "pycharm": {
     "is_executing": false
    }
   },
   "outputs": [],
   "source": [
    "def sigma(w, x):\n",
    "    return 1 / (1 + np.exp(-np.dot(w, x)))\n",
    "\n",
    "\n",
    "def function(w, X, labels):\n",
    "    return -1 / len(X) * np.sum([np.log(sigma(w, l * x)) for x, l in zip(X, labels)])\n",
    "\n",
    "\n",
    "def gradient(w, X, labels):\n",
    "    return -1 / len(X) * np.sum([l * x * sigma(w, -l * x) for x, l in zip(X, labels)], axis=0)\n",
    "\n",
    "\n",
    "def hessian(w, X, labels):\n",
    "    return 1 / len(X) * np.sum([np.outer(x, x) * sigma(w, x) * sigma(w, -x) for x in X], axis=0)\n"
   ]
  },
  {
   "cell_type": "markdown",
   "metadata": {},
   "source": [
    "#### Тесты для проверки правильности вычисления производных:"
   ]
  },
  {
   "cell_type": "code",
   "execution_count": 6,
   "metadata": {
    "pycharm": {
     "is_executing": false,
     "name": "#%%\n"
    }
   },
   "outputs": [],
   "source": [
    "#численное дифференцирование\n",
    "def der(fun, point, epsilon=np.sqrt(sys.float_info.epsilon)):\n",
    "    return (fun(point + epsilon) - fun(point)) / epsilon\n",
    "\n",
    "#считает среднюю относительную погрешность по всем кординатным осям в рандомной точке\n",
    "def check_gradient(fun, grad, R, dim, args=(), diff_eps=np.sqrt(sys.float_info.epsilon)):\n",
    "    w = np.random.random(dim)\n",
    "    w = (2 * w - 1) * R\n",
    "    dw = np.eye(dim)\n",
    "    difs = [np.abs((np.dot(grad(w, *args), dw_i) - der(lambda t: fun(w + t * dw_i, *args), 0, diff_eps)) / np.dot(\n",
    "        grad(w, *args), dw_i)) for dw_i in dw]\n",
    "    return np.average(difs)\n",
    "\n",
    "#считает среднюю относительную погрешность по всем парам кординатных осей в рандомной точке\n",
    "def check_hessian(grad, hess, R, dim, args=(), diff_eps=np.sqrt(sys.float_info.epsilon)):\n",
    "    w = np.random.random(dim)\n",
    "    w = (2 * w - 1) * R\n",
    "    dw = np.eye(dim)\n",
    "    g = hess(w, *args)\n",
    "\n",
    "    def xAy(A, x, y):\n",
    "        return np.dot(x, np.dot(A, y))\n",
    "\n",
    "    difs = [np.abs((xAy(g, dw1, dw2) - der(lambda t: np.dot(grad(w + t * dw1, *args), dw2), 0, diff_eps))\n",
    "                   / xAy(g, dw1, dw2)) for dw1 in dw for dw2 in dw]\n",
    "    return np.average(difs)\n"
   ]
  },
  {
   "cell_type": "markdown",
   "metadata": {},
   "source": []
  },
  {
   "cell_type": "code",
   "execution_count": null,
   "metadata": {},
   "outputs": [],
   "source": []
  },
  {
   "cell_type": "code",
   "execution_count": null,
   "metadata": {},
   "outputs": [],
   "source": []
  }
 ],
 "metadata": {
  "kernelspec": {
   "display_name": "Python 3",
   "language": "python",
   "name": "python3"
  },
  "language_info": {
   "codemirror_mode": {
    "name": "ipython",
    "version": 3
   },
   "file_extension": ".py",
   "mimetype": "text/x-python",
   "name": "python",
   "nbconvert_exporter": "python",
   "pygments_lexer": "ipython3",
   "version": "3.7.4"
  },
  "pycharm": {
   "stem_cell": {
    "cell_type": "raw",
    "metadata": {
     "collapsed": false
    },
    "source": []
   }
  }
 },
 "nbformat": 4,
 "nbformat_minor": 1
}
