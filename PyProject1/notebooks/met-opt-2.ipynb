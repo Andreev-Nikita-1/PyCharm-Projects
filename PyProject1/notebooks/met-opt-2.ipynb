{
 "cells": [
  {
   "cell_type": "markdown",
   "metadata": {},
   "source": [
    "# Домашнее задание 2\n",
    "### Андреев Никита"
   ]
  },
  {
   "cell_type": "code",
   "execution_count": 122,
   "metadata": {
    "pycharm": {
     "is_executing": false,
     "name": "#%%\n"
    }
   },
   "outputs": [],
   "source": [
    "import sys\n",
    "import time\n",
    "import matplotlib.pyplot as plt\n",
    "import numpy as np\n",
    "import scipy\n",
    "import scipy.optimize as opt\n",
    "import scipy.sparse\n",
    "import sklearn.datasets\n",
    "from sklearn.model_selection import train_test_split"
   ]
  },
  {
   "cell_type": "markdown",
   "metadata": {},
   "source": [
    "#### Определим функцию $\\sigma$:\n",
    "\n",
    "## $\\sigma_w(x)=\\frac{e^{w^tx}}{1+e^{w^tx}}=\\frac{1}{1+e^{-w^tx}}$\n",
    "\n",
    "Тогда\n",
    "$1-\\sigma_w(x)=1-\\frac{1}{1+e^{-w^tx}}=\\frac{1}{1+e^{w^tx}}=\\sigma_w(-x)$"
   ]
  },
  {
   "cell_type": "markdown",
   "metadata": {},
   "source": [
    "#### Функция, которую необходимо минимизировать:\n",
    "## $f(w)=-\\frac{1}{N}\\sum\\limits_1^n\\log(\\sigma_w(y_i x_i))$, $y_i =\\pm 1$"
   ]
  },
  {
   "cell_type": "markdown",
   "metadata": {},
   "source": [
    "#### Посчитаем производные:\n",
    "\n",
    "### $\\nabla\\sigma_w(x)=\\frac{e^{-w^tx}}{(1+e^{-w^tx})^2}x = \\sigma_w(x) \\sigma_w(-x)x$\n",
    "\n",
    "### $\\nabla f(w) = -\\frac{1}{N}\\sum\\limits_1^n\\sigma_w(-y_i x_i)y_i x_i$\n",
    "\n",
    "### $\\nabla^2 f(w) = \\frac{1}{N}\\sum\\limits_1^n\\sigma_w(y_i x_i)\\sigma_w(-y_i x_i)x_i x_i^t=\n",
    "\\frac{1}{N}\\sum\\limits_1^n\\sigma_w(x_i)\\sigma_w(-x_i)x_i x_i^t$"
   ]
  },
  {
   "cell_type": "markdown",
   "metadata": {},
   "source": [
    "Матрица $X$ для датасета a1a разрежена, поэтому я попытался определить функции так, чтобы это учесть:"
   ]
  },
  {
   "cell_type": "code",
   "execution_count": 155,
   "metadata": {
    "pycharm": {
     "is_executing": false
    }
   },
   "outputs": [],
   "source": [
    "def sigmoid(x):\n",
    "    return 1 / (1 + np.exp(-x))\n",
    "\n",
    "\n",
    "def oracle(w, X, labels, outers=None, order=0):\n",
    "    Xw = X.dot(w)\n",
    "    sigmoids = [sigmoid(l * xw) for xw, l in zip(Xw, labels)]\n",
    "    f = -1 / X.shape[0] * np.sum([np.log(s) for s in sigmoids])\n",
    "\n",
    "    if order == 0:\n",
    "        return f\n",
    "\n",
    "    grad_coeffs = np.array([l * (1 - s) for s, l in zip(sigmoids, labels)])\n",
    "    X1 = X.multiply(grad_coeffs.reshape(-1, 1))\n",
    "    g = -1 / X.shape[0] * np.array(X1.sum(axis=0)).reshape(X.shape[1])\n",
    "\n",
    "    if order == 1:\n",
    "        return f, g, 0\n",
    "        # 0 чтобы order 1 и 2 оба возвращали 3 значения\n",
    "\n",
    "    hess_coeffs = np.array([s * (1 - s) for s in sigmoids])\n",
    "    if outers is None:\n",
    "        h = 1 / X.shape[0] * np.sum([np.outer(x, x) * hess_coeffs[i] for i, x in enumerate(X.todense())], axis=0)\n",
    "    else:\n",
    "        outers1 = outers.multiply(grad_coeffs.reshape(-1, 1))\n",
    "        h = 1 / X.shape[0] * np.array(outers1.sum(axis=0)).reshape((X.shape[1], X.shape[1]))\n",
    "\n",
    "    if order == 2:\n",
    "        return f, g, h\n",
    "\n",
    "    \n",
    "def function(w, X, labels):\n",
    "    return oracle(w, X, labels)\n",
    "\n",
    "\n",
    "def gradient(w, X, labels):\n",
    "    return oracle(w, X, labels, order=1)[1]\n",
    "\n",
    "\n",
    "def hessian(w, X, labels):\n",
    "    return oracle(w, X, labels, order=2)[2]"
   ]
  },
  {
   "cell_type": "markdown",
   "metadata": {},
   "source": [
    "#### Тесты для проверки правильности вычисления производных:"
   ]
  },
  {
   "cell_type": "code",
   "execution_count": 156,
   "metadata": {
    "pycharm": {
     "is_executing": false,
     "name": "#%%\n"
    }
   },
   "outputs": [],
   "source": [
    "#численное дифференцирование\n",
    "def der(fun, point, epsilon=np.sqrt(sys.float_info.epsilon)):\n",
    "    return (fun(point + epsilon) - fun(point)) / epsilon\n",
    "\n",
    "#считает среднюю относительную погрешность по всем кординатным осям в рандомной точке из [-R, R]^dim\n",
    "def check_gradient(fun, grad, R, dim, args=(), diff_eps=np.sqrt(sys.float_info.epsilon)):\n",
    "    w = np.random.random(dim)\n",
    "    w = (2 * w - 1) * R\n",
    "    dw = np.eye(dim)\n",
    "    g = grad(w, *args)\n",
    "    norm = np.dot(g, g)\n",
    "    difs = [np.abs((np.dot(g, dw_i) - der(lambda t: fun(w + t * dw_i, *args), 0, diff_eps))) for dw_i in dw]\n",
    "    return np.average(difs) / norm\n",
    "\n",
    "#считает среднюю относительную погрешность по всем парам кординатных осей в рандомной точке из [-R, R]^dim\n",
    "def check_hessian(grad, hess, R, dim, args=(), diff_eps=np.sqrt(sys.float_info.epsilon)):\n",
    "    w = np.random.random(dim)\n",
    "    w = (2 * w - 1) * R\n",
    "    dw = np.eye(dim)\n",
    "    h = hess(w, *args)\n",
    "    norm = np.dot(h.flatten(), h.flatten())\n",
    "    difs = [np.abs(np.dot(dw1, np.dot(h, dw2)) - der(lambda t: np.dot(grad(w + t * dw1, *args), dw2), 0, diff_eps)) for dw1 in dw\n",
    "            for dw2 in dw]\n",
    "    return np.average(difs) / norm\n"
   ]
  },
  {
   "cell_type": "markdown",
   "metadata": {},
   "source": [
    "### В качестве данных впредь будем использовать три датасета:"
   ]
  },
  {
   "cell_type": "markdown",
   "metadata": {},
   "source": [
    "a1a:"
   ]
  },
  {
   "cell_type": "code",
   "execution_count": 157,
   "metadata": {},
   "outputs": [],
   "source": [
    "a1a = sklearn.datasets.load_svmlight_file('../data/a1a.txt')\n",
    "X = a1a[0]\n",
    "dummy = scipy.sparse.csr_matrix([[1] for i in range(X.shape[0])])\n",
    "X_a1a = scipy.sparse.hstack([X, dummy])\n",
    "labels_a1a = a1a[1]"
   ]
  },
  {
   "cell_type": "markdown",
   "metadata": {},
   "source": [
    "breast cancer: (координаты нормированы от -1 до 1)"
   ]
  },
  {
   "cell_type": "code",
   "execution_count": 158,
   "metadata": {},
   "outputs": [],
   "source": [
    "breast_cancer = sklearn.datasets.load_svmlight_file('../data/breast-cancer_scale.txt')\n",
    "X = breast_cancer[0]\n",
    "dummy = scipy.sparse.csr_matrix([[1] for i in range(X.shape[0])])\n",
    "X_cancer = scipy.sparse.hstack([X, dummy])\n",
    "labels_cancer = breast_cancer[1]-3"
   ]
  },
  {
   "cell_type": "markdown",
   "metadata": {},
   "source": [
    "Случайный сгенерированный:"
   ]
  },
  {
   "cell_type": "code",
   "execution_count": 159,
   "metadata": {},
   "outputs": [],
   "source": [
    "def random_dataset(alpha, beta):\n",
    "    xs = np.random.normal(size=(1000, alpha.shape[0]))\n",
    "    labels = np.array([np.sign(np.dot(alpha, x) + beta) for x in xs])\n",
    "    return xs, labels\n"
   ]
  },
  {
   "cell_type": "code",
   "execution_count": 160,
   "metadata": {},
   "outputs": [],
   "source": [
    "alpha = 2 * np.random.random(10) - 1\n",
    "beta = 2 * np.random.random() - 1\n",
    "X, labels_rand = random_dataset(alpha, beta)\n",
    "dummy = scipy.sparse.csr_matrix([[1] for i in range(X.shape[0])])\n",
    "X_rand = scipy.sparse.hstack([X, dummy])"
   ]
  },
  {
   "cell_type": "markdown",
   "metadata": {},
   "source": [
    "Посмотрим, правильно ли посчитаны градиент и гессиан:"
   ]
  },
  {
   "cell_type": "code",
   "execution_count": 161,
   "metadata": {},
   "outputs": [
    {
     "name": "stdout",
     "output_type": "stream",
     "text": [
      "погрешность градиента = 5.298418049917885e-08\n",
      "погрешность гессиана = 1.2903098556083317e-09\n"
     ]
    }
   ],
   "source": [
    "print('погрешность градиента =', check_gradient(function, gradient, 1, X_a1a.shape[1], args=[X_a1a, labels_a1a]))\n",
    "print('погрешность гессиана =', check_hessian(gradient, hessian, 1, X_a1a.shape[1], args=[X_a1a, labels_a1a]))\n",
    "#долго - большая размерность"
   ]
  },
  {
   "cell_type": "code",
   "execution_count": 162,
   "metadata": {},
   "outputs": [
    {
     "name": "stdout",
     "output_type": "stream",
     "text": [
      "погрешность градиента = 7.0766541832041895e-09\n",
      "погрешность гессиана = 3.925269305383208e-08\n"
     ]
    }
   ],
   "source": [
    "print('погрешность градиента =', check_gradient(function, gradient, 1, X_cancer.shape[1], args=[X_cancer, labels_cancer]))\n",
    "print('погрешность гессиана =', check_hessian(gradient, hessian, 1, X_cancer.shape[1], args=[X_cancer, labels_cancer]))"
   ]
  },
  {
   "cell_type": "code",
   "execution_count": 163,
   "metadata": {},
   "outputs": [
    {
     "name": "stdout",
     "output_type": "stream",
     "text": [
      "погрешность градиента = 3.022358180621045e-08\n",
      "погрешность гессиана = 4.683710513620818e-08\n"
     ]
    }
   ],
   "source": [
    "print('погрешность градиента =', check_gradient(function, gradient, 1, X_rand.shape[1], args=[X_rand, labels_rand]))\n",
    "print('погрешность гессиана =', check_hessian(gradient, hessian, 1, X_rand.shape[1], args=[X_rand, labels_rand]))"
   ]
  },
  {
   "cell_type": "markdown",
   "metadata": {},
   "source": [
    "Результаты говорят о том, что всё правильно"
   ]
  },
  {
   "cell_type": "markdown",
   "metadata": {},
   "source": [
    "#### Метод золотого сечения:"
   ]
  },
  {
   "cell_type": "code",
   "execution_count": 1,
   "metadata": {},
   "outputs": [],
   "source": [
    "#на заданном интервале: возвращает точку минимума и число вызовов функции\n",
    "def golden_search_bounded(fun, a0, b0, eps=0.0001, args=()):\n",
    "    ratio = (1 + 5 ** 0.5) / 2\n",
    "\n",
    "    def step(a, b, c, fc, onumber):\n",
    "        if b - a < eps:\n",
    "            return a, fun(a, *args), onumber + 1\n",
    "        else:\n",
    "            d = a + b - c\n",
    "            fd = fun(d)\n",
    "            if c > d:\n",
    "                c, d = d, c\n",
    "                fc, fd = fd, fc\n",
    "            if fc < fd:\n",
    "                return step(a, d, c, fc, onumber + 1)\n",
    "            else:\n",
    "                return step(c, b, d, fd, onumber + 1)\n",
    "\n",
    "    c0 = a0 + (b0 - a0) / ratio\n",
    "    solution = step(a0, b0, c0, fun(c0, *args), 0)\n",
    "    return solution[0], solution[2]\n",
    "\n",
    "\n",
    "#общий случай используя bracket\n",
    "def golden_search(fun, eps=0.0001, args=()):\n",
    "    a, _, b, _, _, _, onumber = opt.bracket(fun, args=args)\n",
    "    if b < a:\n",
    "        a, b = b, a\n",
    "    gsb = golden_search_bounded(fun, a, b, eps=eps, args=args)\n",
    "    return gsb[0], gsb[1] + onumber\n"
   ]
  },
  {
   "cell_type": "markdown",
   "metadata": {},
   "source": [
    "Метод для построения графиков:"
   ]
  },
  {
   "cell_type": "code",
   "execution_count": 17,
   "metadata": {},
   "outputs": [],
   "source": [
    "def graph(x, y, x_l=None, y_l=None, title=None):\n",
    "    fig, ax = plt.subplots()\n",
    "    ax.plot(x, y)\n",
    "    ax.set(xlabel=x_l, ylabel=y_l, title=title)\n",
    "    ax.grid()\n",
    "    plt.show()\n",
    "    "
   ]
  },
  {
   "cell_type": "markdown",
   "metadata": {},
   "source": [
    "Сгенерируем полиномы 2, 3 и 5 степени и построим графики чтобы понять с каких интервалов начинать поиск минимума:"
   ]
  },
  {
   "cell_type": "code",
   "execution_count": 153,
   "metadata": {},
   "outputs": [
    {
     "name": "stdout",
     "output_type": "stream",
     "text": [
      "-0.95717287 + -0.75630972x + 0.72343828x ^ 2\n"
     ]
    },
    {
     "data": {
      "image/png": "[encoded data removed]",
      "text/plain": [
       "<Figure size 432x288 with 1 Axes>"
      ]
     },
     "metadata": {
      "needs_background": "light"
     },
     "output_type": "display_data"
    },
    {
     "name": "stdout",
     "output_type": "stream",
     "text": [
      "0.97490814 + 0.80688161x + 0.05165432x ^ 2 + -0.52669906x ^ 3\n"
     ]
    },
    {
     "data": {
      "image/png": "[encoded data removed]",
      "text/plain": [
       "<Figure size 432x288 with 1 Axes>"
      ]
     },
     "metadata": {
      "needs_background": "light"
     },
     "output_type": "display_data"
    },
    {
     "name": "stdout",
     "output_type": "stream",
     "text": [
      "0.74540317 + -0.50950527x + 0.96825081x ^ 2 + -0.0243777x ^ 3 +-0.33768442x ^ 4 + 0.13532899x ^ 5\n"
     ]
    },
    {
     "data": {
      "image/png": "[encoded data removed]",
      "text/plain": [
       "<Figure size 432x288 with 1 Axes>"
      ]
     },
     "metadata": {
      "needs_background": "light"
     },
     "output_type": "display_data"
    }
   ],
   "source": [
    "c2, c3, c5 = [-0.95717287, -0.75630972, 0.72343828], [0.97490814, 0.80688161, 0.05165432, -0.52669906], [0.74540317,\n",
    "                                                                                                         -0.50950527,\n",
    "                                                                                                         0.96825081,\n",
    "                                                                                                         -0.0243777,\n",
    "                                                                                                         -0.33768442,\n",
    "                                                                                                         0.13532899]\n",
    "\n",
    "def pol2(x):\n",
    "    return c2[0] + c2[1] * x + c2[2] * x ** 2\n",
    "\n",
    "\n",
    "def pol3(x):\n",
    "    return c3[0] + c3[1] * x + c3[2] * x ** 2 + c3[3] * x ** 3\n",
    "\n",
    "\n",
    "def pol5(x):\n",
    "    return c5[0] + c5[1] * x + c5[2] * x ** 2 + c5[3] * x ** 3 + c5[4] * x ** 4 + c5[5] * x ** 5\n",
    "\n",
    "xs = np.arange(-2, 2, 0.001)\n",
    "print(str(c2[0]) + ' + ' + str(c2[1]) + 'x + ' + str(c2[2]) + 'x ^ 2')\n",
    "graph(xs, [pol2(x) for x in xs])\n",
    "\n",
    "print(str(c3[0]) + ' + ' + str(c3[1]) + 'x + ' + str(c3[2]) + 'x ^ 2 + ' + str(c3[3]) + 'x ^ 3')\n",
    "graph(xs, [pol3(x) for x in xs])\n",
    "\n",
    "print(str(c5[0]) + ' + ' + str(c5[1]) + 'x + ' + str(c5[2]) + 'x ^ 2 + ' + str(c5[3]) + 'x ^ 3 +' + str(\n",
    "          c5[4]) + 'x ^ 4 + ' + str(c5[5]) + 'x ^ 5')\n",
    "graph(xs, [pol5(x) for x in xs])"
   ]
  },
  {
   "cell_type": "code",
   "execution_count": 150,
   "metadata": {},
   "outputs": [
    {
     "name": "stdout",
     "output_type": "stream",
     "text": [
      "x golden = 0.5227188789917765 , nfev = 36\n",
      "x brent = 0.5227188895728239 , nfev = 9\n",
      "pol2(x golden) - pol2(x brent) = 4.440892098500626e-16\n"
     ]
    }
   ],
   "source": [
    "x, fev = golden_search_bounded(pol2, -0.5, 1.5, eps=0.0000001)\n",
    "\n",
    "opt1 = opt.minimize_scalar(pol2, bracket=[-0.5, 0, 1.5], method='brent')\n",
    "x1, fev1 = opt1['x'], opt1['nfev']\n",
    "\n",
    "print('x golden =', x, ', nfev =', fev)\n",
    "print('x brent =', x1, ', nfev =', fev1)\n",
    "print('pol2(x golden) - pol2(x brent) =', pol2(x) - pol2(x1))"
   ]
  },
  {
   "cell_type": "code",
   "execution_count": 151,
   "metadata": {},
   "outputs": [
    {
     "name": "stdout",
     "output_type": "stream",
     "text": [
      "x golden = -0.6826571097902062 , nfev = 31\n",
      "x brent = -0.6826567604746772 , nfev = 14\n",
      "pol3(x golden) - pol3(x brent) = 1.4444001550373287e-13\n"
     ]
    }
   ],
   "source": [
    "x, fev = golden_search_bounded(pol3, -1.5, 0, eps=0.000001)\n",
    "\n",
    "opt1 = opt.minimize_scalar(pol3, bracket=[-1.5, -1, 0], method='brent')\n",
    "x1, fev1 = opt1['x'], opt1['nfev']\n",
    "\n",
    "print('x golden =', x, ', nfev =', fev)\n",
    "print('x brent =', x1, ', nfev =', fev1)\n",
    "print('pol3(x golden) - pol3(x brent) =', pol3(x) - pol3(x1))"
   ]
  },
  {
   "cell_type": "code",
   "execution_count": 152,
   "metadata": {},
   "outputs": [
    {
     "name": "stdout",
     "output_type": "stream",
     "text": [
      "x golden = 0.2790903681196425 , nfev = 31\n",
      "x brent = 0.2790908876932606 , nfev = 16\n",
      "pol5(x golden) - pol5(x brent) = 2.2226664952995634e-13\n"
     ]
    }
   ],
   "source": [
    "x, fev = golden_search_bounded(pol5, -0.5, 1.0, eps=0.000001)\n",
    "\n",
    "opt1 = opt.minimize_scalar(pol5, bracket=[-0.5, 0, 1], method='brent')\n",
    "x1, fev1 = opt1['x'], opt1['nfev']\n",
    "\n",
    "print('x golden =', x, ', nfev =', fev)\n",
    "print('x brent =', x1, ', nfev =', fev1)\n",
    "print('pol5(x golden) - pol5(x brent) =', pol5(x) - pol5(x1))"
   ]
  },
  {
   "cell_type": "markdown",
   "metadata": {},
   "source": [
    "#### Поиск шага с использованием условия Армихо:"
   ]
  },
  {
   "cell_type": "code",
   "execution_count": 154,
   "metadata": {},
   "outputs": [],
   "source": [
    "def armiho(fun, c=0.5, x0=1, df0=None):\n",
    "    x = x0\n",
    "    f0 = fun(0)\n",
    "    oracle = 1\n",
    "\n",
    "    if df0 is None:\n",
    "        df0 = der(fun, 0)\n",
    "    while fun(x) > f0 + c * x * df0:\n",
    "        x /= 2\n",
    "        oracle += 1\n",
    "    oracle += 1\n",
    "\n",
    "    return x, oracle\n"
   ]
  },
  {
   "cell_type": "markdown",
   "metadata": {},
   "source": [
    "#### Поиск шага с помощью оценки константы Липшица (схема Нестерова, насколько я понял):"
   ]
  },
  {
   "cell_type": "code",
   "execution_count": null,
   "metadata": {},
   "outputs": [],
   "source": [
    "def nester(fun, f0, d, L0=1):\n",
    "    L = L0\n",
    "    oracle = 0\n",
    "\n",
    "    while fun(1 / L) > f0 - 1 / (2 * L) * np.dot(d, d):\n",
    "        L *= 2\n",
    "        oracle += 1\n",
    "    oracle += 1\n",
    "\n",
    "    return L, oracle\n"
   ]
  },
  {
   "cell_type": "markdown",
   "metadata": {},
   "source": [
    "Чтобы решить систему $Hx = y$, где $H$ - положительно определённая матрица, будем использовать разложение Холецкого:"
   ]
  },
  {
   "cell_type": "code",
   "execution_count": null,
   "metadata": {},
   "outputs": [],
   "source": [
    "def solve(G, d):\n",
    "    L = np.linalg.cholesky(G)\n",
    "    Ltx = scipy.linalg.solve_triangular(L, d, lower=True)\n",
    "    return scipy.linalg.solve_triangular(np.transpose(L), Ltx, lower=False)\n"
   ]
  },
  {
   "cell_type": "markdown",
   "metadata": {},
   "source": [
    "## Градиентный спуск и метод Ньютона:\n",
    "\n",
    "Разница только в выборе направления - поэтому всё в одном методе\n",
    "\n",
    "Параметры:\n",
    "\n",
    "1. oracle - оракул\n",
    "2. start - начальная точка\n",
    "3. method - 'gradient descent' или 'newton'\n",
    "4. one_dim_search - способ выбора шага:\n",
    "    'unit step',\n",
    "    'brent',\n",
    "    'golden',\n",
    "    'armiho',\n",
    "    'nester',\n",
    "    'wolf'\n",
    "5. args - аргументы для оракула (X, labels)\n",
    "6. search_kwargs - аргументы для метода одномерной оптимизации\n",
    "7. epsilon - для условия остановки\n",
    "\n",
    "\n",
    "Возвращает:\n",
    "\n",
    "1. x - результат\n",
    "2. iterations - range от 0 до количества итераций\n",
    "3. oracles - массив чисел вызовов оракула с начала до текущего шага\n",
    "4. times - массив времён от начала вычисления до текущего шага\n",
    "5. values - массив значений функции\n",
    "6. grad_ratios - массив отношений $||\\nabla f(w_k)||^2/||\\nabla f(w_0)||^2$"
   ]
  },
  {
   "cell_type": "code",
   "execution_count": null,
   "metadata": {},
   "outputs": [],
   "source": [
    "def optimization_task(oracle, start, method='gradient descent', one_dim_search=None, args=(),\n",
    "                      search_kwargs=dict([]), epsilon=0.0001, true_min=0):\n",
    "    iterations, oracles, times, accuracies, grad_ratios = [], [], [], [], []\n",
    "    start_time, k, onumber = time.time(), 0, 0\n",
    "    x = start\n",
    "\n",
    "    if method == 'gradient descent':\n",
    "        ord = 1\n",
    "        if one_dim_search is None:\n",
    "            one_dim_search = 'brent'\n",
    "    elif method == 'newton':\n",
    "        ord = 2\n",
    "        if one_dim_search is None:\n",
    "            one_dim_search = 'unit step'\n",
    "\n",
    "    f0, g0, _ = oracle(x, *args, order=1)\n",
    "    onumber += 1\n",
    "\n",
    "    if one_dim_search == 'nester':\n",
    "        L, L0 = 2, 0\n",
    "        if 'L0' in search_kwargs.keys():\n",
    "            L0 = 2 * search_kwargs['L0']\n",
    "            L = L0\n",
    "\n",
    "    while True:\n",
    "        fk, gk, hk = oracle(x, *args, order=ord)\n",
    "        if method == 'gradient descent':\n",
    "            d = -gk\n",
    "        elif method == 'newton':\n",
    "            d = -solve(hk, gk)\n",
    "        onumber += 1\n",
    "        ratio = np.dot(gk, gk) / np.dot(g0, g0)\n",
    "        iterations.append(k)\n",
    "        k += 1\n",
    "        oracles.append(onumber)\n",
    "        times.append(time.time() - start_time)\n",
    "        accuracies.append(fk - true_min)\n",
    "        grad_ratios.append(ratio)\n",
    "\n",
    "        if ratio <= epsilon:\n",
    "            break\n",
    "\n",
    "        fun = lambda alpha: oracle(x + d * alpha, *args)\n",
    "\n",
    "        if one_dim_search == 'unit step':\n",
    "            alpha = 1\n",
    "        elif one_dim_search == 'golden':\n",
    "            alpha, oracle_counter = golden_search(fun, **search_kwargs)\n",
    "            onumber += oracle_counter\n",
    "        elif one_dim_search == 'brent':\n",
    "            solution = opt.minimize_scalar(fun)\n",
    "            alpha = solution['x']\n",
    "            onumber += solution['nfev']\n",
    "        elif one_dim_search == 'armiho':\n",
    "            alpha, oracle_counter = armiho(fun, **search_kwargs, df0=np.dot(gk, d))\n",
    "            onumber += oracle_counter\n",
    "        elif one_dim_search == 'wolf':\n",
    "            f_for_wolf = lambda z: oracle(z, *args)\n",
    "            g_for_wolf = lambda z: oracle(z, *args, order=1)[1]\n",
    "            solution = opt.line_search(f_for_wolf, g_for_wolf, x, d, **search_kwargs, gfk=gk, old_fval=fk)\n",
    "            alpha = solution[0]\n",
    "            #wolf не принимает оракул, вычисляющий одновременно функцию и градиент, хотя мог бы,\n",
    "            #так что я учёл только вызовы функции\n",
    "            onumber += solution[1]\n",
    "        elif one_dim_search == 'nester':\n",
    "            L, oracle_counter = nester(fun, fk, gk, L0=max(L / 2, L0))\n",
    "            alpha = 1 / L\n",
    "            onumber += oracle_counter\n",
    "\n",
    "        x = x + d * alpha\n",
    "\n",
    "    return x, iterations, oracles, times, accuracies, grad_ratios\n"
   ]
  }
 ],
 "metadata": {
  "kernelspec": {
   "display_name": "Python 3",
   "language": "python",
   "name": "python3"
  },
  "language_info": {
   "codemirror_mode": {
    "name": "ipython",
    "version": 3
   },
   "file_extension": ".py",
   "mimetype": "text/x-python",
   "name": "python",
   "nbconvert_exporter": "python",
   "pygments_lexer": "ipython3",
   "version": "3.7.4"
  },
  "pycharm": {
   "stem_cell": {
    "cell_type": "raw",
    "metadata": {
     "collapsed": false
    },
    "source": []
   }
  }
 },
 "nbformat": 4,
 "nbformat_minor": 1
}
