{
 "cells": [
  {
   "cell_type": "code",
   "execution_count": 2,
   "metadata": {
    "pycharm": {
     "is_executing": false,
     "name": "#%%\n"
    }
   },
   "outputs": [],
   "source": [
    "import numpy as np\n",
    "import scipy\n",
    "import scipy.optimize as opt\n",
    "import sklearn\n",
    "import sklearn.datasets\n",
    "import matplotlib.pyplot as plt\n",
    "import sys\n",
    "import time\n",
    "from scipy.optimize import bracket"
   ]
  },
  {
   "cell_type": "markdown",
   "metadata": {},
   "source": []
  },
  {
   "cell_type": "code",
   "execution_count": 3,
   "metadata": {
    "pycharm": {
     "is_executing": false
    }
   },
   "outputs": [
    {
     "name": "stdout",
     "output_type": "stream",
     "text": [
      "1\n"
     ]
    }
   ],
   "source": [
    "def sigma(w, x):\n",
    "    return 1 / (1 + np.exp(-np.dot(w, x)))\n",
    "\n",
    "\n",
    "def function(w, X):\n",
    "    return -1 / len(X) * np.sum([np.log(sigma(w, (2 * l - 1) * x)) for x, l in zip(X, labels)])\n",
    "\n",
    "\n",
    "def gradient(w, X):\n",
    "    return -1 / len(X) * np.sum([x * (l - sigma(w, x)) for x, l in zip(X, labels)], axis=0)\n",
    "\n",
    "\n",
    "def gessian(w, dw1, dw2, X):\n",
    "    return -1 / len(X) * np.sum([np.dot(dw1, x) * np.dot(dw2, x) * ((sigma(w, x) - 1) * sigma(w, x)) for x in X])\n"
   ]
  },
  {
   "cell_type": "code",
   "execution_count": 3,
   "metadata": {
    "pycharm": {
     "is_executing": false,
     "name": "#%%\n"
    }
   },
   "outputs": [
    {
     "name": "stdout",
     "output_type": "stream",
     "text": [
      "[[1 2]\n",
      " [1 4]]\n"
     ]
    }
   ],
   "source": [
    "def der(fun, point, epsilon):\n",
    "    return (fun(point + epsilon) - fun(point)) / epsilon\n",
    "\n",
    "\n",
    "def check_gradient(fun, grad, X, R, diff_eps=np.sqrt(sys.float_info.epsilon)):\n",
    "    dim = X.shape[1]\n",
    "    w = np.random.random(dim)\n",
    "    w = (2 * w - 1) * R\n",
    "    dw = np.eye(dim)\n",
    "    difs = [\n",
    "        np.abs((np.dot(grad(w, X), dw_i) - der(lambda t: fun(w + t * dw_i, X), 0, diff_eps)) / np.dot(grad(w, X), dw_i))\n",
    "        for dw_i in dw]\n",
    "    return np.average(difs)\n",
    "\n",
    "\n",
    "def check_gessian(grad, gess, X, R, diff_eps=np.sqrt(sys.float_info.epsilon)):\n",
    "    dim = X.shape[1]\n",
    "    w = np.random.random(dim)\n",
    "    w = (2 * w - 1) * R\n",
    "    dw = np.eye(dim)\n",
    "    difs = [\n",
    "        np.abs(\n",
    "            (gess(w, dw1, dw2, X) - der(lambda t: np.dot(grad(w + t * dw1, X), dw2), 0, diff_eps))\n",
    "            / gess(w, dw1, dw2, X))\n",
    "        for dw1 in dw for dw2 in dw]\n",
    "    return np.average(difs)\n"
   ]
  },
  {
   "cell_type": "code",
   "execution_count": null,
   "metadata": {},
   "outputs": [],
   "source": [
    "def golden_search_bounded(fun, a0, b0, eps=0.0001):\n",
    "    ratio = (1 + 5 ** 0.5) / 2\n",
    "\n",
    "    def step(a, b, c, fc):\n",
    "        if b - a < eps:\n",
    "            return a, fun(a)\n",
    "        else:\n",
    "            d = a + b - c\n",
    "            fd = fun(d)\n",
    "            if c > d:\n",
    "                c, d = d, c\n",
    "                fc, fd = fd, fc\n",
    "            if fc < fd:\n",
    "                return step(a, d, c, fc)\n",
    "            else:\n",
    "                return step(c, b, d, fd)\n",
    "\n",
    "    c0 = a0 + (b0 - a0) / ratio\n",
    "    return step(a0, b0, c0, fun(c0))[0]\n",
    "\n",
    "\n",
    "def golden_search(fun, b=300, a=0, eps=0.0001):\n",
    "    x = golden_search_bounded(fun, a, b, eps)\n",
    "    if np.abs(x - a) < eps:\n",
    "        return golden_search(fun, a, 2 * a - b)\n",
    "    if np.abs(x - b) < eps:\n",
    "        return golden_search(fun, 2 * b - a, b)\n",
    "    return x\n"
   ]
  },
  {
   "cell_type": "code",
   "execution_count": null,
   "metadata": {},
   "outputs": [],
   "source": [
    "def gradient_descent(fun, grad, one_dim_search, start, epsilon):\n",
    "    x = start\n",
    "    d0 = grad(x)\n",
    "    d = grad(x)\n",
    "    k = 0\n",
    "    while np.dot(d, d) / np.dot(d0, d0) > epsilon:\n",
    "        x1 = x - d * one_dim_search(lambda alpha: fun(x - d * alpha))\n",
    "        if k % 10 == 0:\n",
    "            print(np.linalg.norm(x - x1))\n",
    "        x = x1\n",
    "        d = grad(x)\n",
    "        k += 1\n",
    "    return x, k"
   ]
  }
 ],
 "metadata": {
  "kernelspec": {
   "display_name": "Python 3",
   "language": "python",
   "name": "python3"
  },
  "language_info": {
   "codemirror_mode": {
    "name": "ipython",
    "version": 3
   },
   "file_extension": ".py",
   "mimetype": "text/x-python",
   "name": "python",
   "nbconvert_exporter": "python",
   "pygments_lexer": "ipython3",
   "version": "3.7.4"
  },
  "pycharm": {
   "stem_cell": {
    "cell_type": "raw",
    "metadata": {
     "collapsed": false
    },
    "source": []
   }
  }
 },
 "nbformat": 4,
 "nbformat_minor": 1
}
