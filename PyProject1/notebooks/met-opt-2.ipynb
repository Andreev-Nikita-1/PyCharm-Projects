{
 "cells": [
  {
   "cell_type": "markdown",
   "metadata": {},
   "source": [
    "# Домашнее задание 2\n",
    "### Андреев Никита"
   ]
  },
  {
   "cell_type": "code",
   "execution_count": 16,
   "metadata": {
    "pycharm": {
     "is_executing": false,
     "name": "#%%\n"
    }
   },
   "outputs": [],
   "source": [
    "import sys\n",
    "import time\n",
    "import matplotlib.pyplot as plt\n",
    "import numpy as np\n",
    "import scipy\n",
    "import scipy.optimize as opt\n",
    "import scipy.sparse\n",
    "import sklearn.datasets\n",
    "from sklearn.model_selection import train_test_split"
   ]
  },
  {
   "cell_type": "markdown",
   "metadata": {},
   "source": [
    "#### Определим функцию $\\sigma$:\n",
    "\n",
    "## $\\sigma_w(x)=\\frac{e^{w^tx}}{1+e^{w^tx}}=\\frac{1}{1+e^{-w^tx}}$\n",
    "\n",
    "Тогда\n",
    "$1-\\sigma_w(x)=1-\\frac{1}{1+e^{-w^tx}}=\\frac{1}{1+e^{w^tx}}=\\sigma_w(-x)$"
   ]
  },
  {
   "cell_type": "markdown",
   "metadata": {},
   "source": [
    "#### Функция, которую необходимо минимизировать:\n",
    "## $f(w)=-\\frac{1}{N}\\sum\\limits_1^n\\log(\\sigma_w(y_i x_i))$, $y_i =\\pm 1$"
   ]
  },
  {
   "cell_type": "markdown",
   "metadata": {},
   "source": [
    "#### Посчитаем производные:\n",
    "\n",
    "### $\\nabla\\sigma_w(x)=\\frac{e^{-w^tx}}{(1+e^{-w^tx})^2}x = \\sigma_w(x) \\sigma_w(-x)x$\n",
    "\n",
    "### $\\nabla f(w) = -\\frac{1}{N}\\sum\\limits_1^n\\sigma_w(-y_i x_i)y_i x_i$\n",
    "\n",
    "### $\\nabla^2 f(w) = \\frac{1}{N}\\sum\\limits_1^n\\sigma_w(y_i x_i)\\sigma_w(-y_i x_i)x_i x_i^t=\n",
    "\\frac{1}{N}\\sum\\limits_1^n\\sigma_w(x_i)\\sigma_w(-x_i)x_i x_i^t$"
   ]
  },
  {
   "cell_type": "markdown",
   "metadata": {},
   "source": [
    "Матрица $X$ для датасета a1a разрежена, поэтому я попытался определить функции так, чтобы это учесть:"
   ]
  },
  {
   "cell_type": "code",
   "execution_count": 17,
   "metadata": {
    "pycharm": {
     "is_executing": false
    }
   },
   "outputs": [],
   "source": [
    "def sigmoid(x):\n",
    "    return 1 / (1 + np.exp(-x))\n",
    "\n",
    "\n",
    "def function(w, X, labels):\n",
    "    Xw = X.dot(w)\n",
    "    return -1 / X.shape[0] * np.sum([np.log(sigmoid(l * xw)) for xw, l in zip(Xw, labels)])\n",
    "\n",
    "\n",
    "def gradient(w, X, labels):\n",
    "    Xw = X.dot(w)\n",
    "    coeffs = np.array([l * sigmoid(-l * xw) for xw, l in zip(Xw, labels)])\n",
    "    X1 = X.multiply(coeffs.reshape(-1, 1))\n",
    "    return -1 / X.shape[0] * np.array(X1.sum(axis=0)).reshape(X.shape[1])\n",
    "\n",
    "\n",
    "def hessian(w, X, labels):\n",
    "    Xw = X.dot(w)\n",
    "    coeffs = np.array([sigmoid(xw) * sigmoid(-xw) for xw in Xw])\n",
    "    return 1 / X.shape[0] * np.sum([np.outer(x, x) * coeffs[i] for i, x in enumerate(X.todense())], axis=0)\n",
    "    #я не нашёл инструментов чтобы эффективно посчитать эту строчку эффективно для разреженных матриц\n",
    "    #но в матрице X датасетa a1a есть полностью нулевые столбцы, поэтому гессиан будет всегда вырожден\n",
    "    #и мы не сможем применить метод ньютона, и гессиан считать не придется\n"
   ]
  },
  {
   "cell_type": "markdown",
   "metadata": {},
   "source": [
    "#### Тесты для проверки правильности вычисления производных:"
   ]
  },
  {
   "cell_type": "code",
   "execution_count": 37,
   "metadata": {
    "pycharm": {
     "is_executing": false,
     "name": "#%%\n"
    }
   },
   "outputs": [],
   "source": [
    "#численное дифференцирование\n",
    "def der(fun, point, epsilon=np.sqrt(sys.float_info.epsilon)):\n",
    "    return (fun(point + epsilon) - fun(point)) / epsilon\n",
    "\n",
    "#считает среднюю относительную погрешность по всем кординатным осям в рандомной точке из [-R, R]^dim\n",
    "def check_gradient(fun, grad, R, dim, args=(), diff_eps=np.sqrt(sys.float_info.epsilon)):\n",
    "    w = np.random.random(dim)\n",
    "    w = (2 * w - 1) * R\n",
    "    dw = np.eye(dim)\n",
    "    g = grad(w, *args)\n",
    "    norm = np.dot(g, g)\n",
    "    difs = [np.abs((np.dot(g, dw_i) - der(lambda t: fun(w + t * dw_i, *args), 0, diff_eps))) for dw_i in dw]\n",
    "    return np.average(difs) / norm\n",
    "\n",
    "#считает среднюю относительную погрешность по всем парам кординатных осей в рандомной точке из [-R, R]^dim\n",
    "def check_hessian(grad, hess, R, dim, args=(), diff_eps=np.sqrt(sys.float_info.epsilon)):\n",
    "    w = np.random.random(dim)\n",
    "    w = (2 * w - 1) * R\n",
    "    dw = np.eye(dim)\n",
    "    h = hess(w, *args)\n",
    "    norm = np.dot(h.flatten(), h.flatten())\n",
    "\n",
    "    def xAy(A, x, y):\n",
    "        return np.dot(x, np.dot(A, y))\n",
    "\n",
    "    difs = [np.abs((xAy(h, dw1, dw2) - der(lambda t: np.dot(grad(w + t * dw1, *args), dw2), 0, diff_eps))) for dw1 in dw\n",
    "            for dw2 in dw]\n",
    "    return np.average(difs) / norm\n"
   ]
  },
  {
   "cell_type": "markdown",
   "metadata": {},
   "source": [
    "### В качестве данных впредь будем использовать три датасета:"
   ]
  },
  {
   "cell_type": "markdown",
   "metadata": {},
   "source": [
    "a1a:"
   ]
  },
  {
   "cell_type": "code",
   "execution_count": 19,
   "metadata": {},
   "outputs": [],
   "source": [
    "a1a = sklearn.datasets.load_svmlight_file('../data/a1a.txt')\n",
    "X = a1a[0]\n",
    "dummy = scipy.sparse.coo_matrix([[1] for i in range(X.shape[0])])\n",
    "X_a1a = scipy.sparse.hstack([X, dummy])\n",
    "labels_a1a = a1a[1]"
   ]
  },
  {
   "cell_type": "markdown",
   "metadata": {},
   "source": [
    "breast cancer:\n",
    "(координаты нормироаны от -1 до 1)"
   ]
  },
  {
   "cell_type": "code",
   "execution_count": 35,
   "metadata": {},
   "outputs": [],
   "source": [
    "breast_cancer = sklearn.datasets.load_svmlight_file('../data/breast-cancer_scale.txt')\n",
    "X = breast_cancer[0]\n",
    "dummy = scipy.sparse.csr_matrix([[1] for i in range(X.shape[0])])\n",
    "X_cancer = scipy.sparse.hstack([X, dummy])\n",
    "labels_cancer = breast_cancer[1]-3"
   ]
  },
  {
   "cell_type": "markdown",
   "metadata": {},
   "source": [
    "Случайный сгенерированный:"
   ]
  },
  {
   "cell_type": "code",
   "execution_count": 21,
   "metadata": {},
   "outputs": [],
   "source": [
    "def random_dataset(alpha, beta):\n",
    "    xs = np.random.normal(size=(1000, alpha.shape[0]))\n",
    "    labels = np.array([np.sign(np.dot(alpha, x) + beta) for x in xs])\n",
    "    return xs, labels\n"
   ]
  },
  {
   "cell_type": "code",
   "execution_count": 22,
   "metadata": {},
   "outputs": [],
   "source": [
    "alpha = 2 * np.random.random(10) - 1\n",
    "beta = 2 * np.random.random() - 1\n",
    "X, labels_rand = random_dataset(alpha, beta)\n",
    "dummy = scipy.sparse.csr_matrix([[1] for i in range(X.shape[0])])\n",
    "X_rand = scipy.sparse.hstack([X, dummy])"
   ]
  },
  {
   "cell_type": "markdown",
   "metadata": {},
   "source": [
    "Посмотрим, правильно ли посчитаны градиент и гессиан:"
   ]
  },
  {
   "cell_type": "code",
   "execution_count": 33,
   "metadata": {},
   "outputs": [
    {
     "name": "stdout",
     "output_type": "stream",
     "text": [
      "погрешность градиента = 4.4215166133432194e-09\n",
      "погрешность гессиана = 1.2081936227510622e-09\n"
     ]
    }
   ],
   "source": [
    "print('погрешность градиента =', check_gradient(function, gradient, 1, X_a1a.shape[1], args=[X_a1a, labels_a1a]))\n",
    "print('погрешность гессиана =', check_hessian(gradient, hessian, 1, X_a1a.shape[1], args=[X_a1a, labels_a1a]))\n",
    "#долго - большая размерность"
   ]
  },
  {
   "cell_type": "code",
   "execution_count": 36,
   "metadata": {},
   "outputs": [
    {
     "name": "stdout",
     "output_type": "stream",
     "text": [
      "погрешность градиента = 7.711015682828957e-09\n",
      "погрешность гессиана = 3.357645728961336e-08\n"
     ]
    }
   ],
   "source": [
    "print('погрешность градиента =', check_gradient(function, gradient, 1, X_cancer.shape[1], args=[X_cancer, labels_cancer]))\n",
    "print('погрешность гессиана =', check_hessian(gradient, hessian, 1, X_cancer.shape[1], args=[X_cancer, labels_cancer]))"
   ]
  },
  {
   "cell_type": "code",
   "execution_count": 34,
   "metadata": {},
   "outputs": [
    {
     "name": "stdout",
     "output_type": "stream",
     "text": [
      "погрешность градиента = 2.5157666787973703e-08\n",
      "погрешность гессиана = 3.7431631029304215e-08\n"
     ]
    }
   ],
   "source": [
    "print('погрешность градиента =', check_gradient(function, gradient, 1, X_rand.shape[1], args=[X_rand, labels_rand]))\n",
    "print('погрешность гессиана =', check_hessian(gradient, hessian, 1, X_rand.shape[1], args=[X_rand, labels_rand]))"
   ]
  },
  {
   "cell_type": "markdown",
   "metadata": {},
   "source": [
    "Результаты говорят о том, что всё правильно"
   ]
  },
  {
   "cell_type": "code",
   "execution_count": null,
   "metadata": {},
   "outputs": [],
   "source": []
  },
  {
   "cell_type": "code",
   "execution_count": null,
   "metadata": {},
   "outputs": [],
   "source": []
  },
  {
   "cell_type": "code",
   "execution_count": null,
   "metadata": {},
   "outputs": [],
   "source": []
  },
  {
   "cell_type": "code",
   "execution_count": null,
   "metadata": {},
   "outputs": [],
   "source": []
  },
  {
   "cell_type": "code",
   "execution_count": null,
   "metadata": {},
   "outputs": [],
   "source": []
  },
  {
   "cell_type": "code",
   "execution_count": null,
   "metadata": {},
   "outputs": [],
   "source": []
  }
 ],
 "metadata": {
  "kernelspec": {
   "display_name": "Python 3",
   "language": "python",
   "name": "python3"
  },
  "language_info": {
   "codemirror_mode": {
    "name": "ipython",
    "version": 3
   },
   "file_extension": ".py",
   "mimetype": "text/x-python",
   "name": "python",
   "nbconvert_exporter": "python",
   "pygments_lexer": "ipython3",
   "version": "3.7.4"
  },
  "pycharm": {
   "stem_cell": {
    "cell_type": "raw",
    "metadata": {
     "collapsed": false
    },
    "source": []
   }
  }
 },
 "nbformat": 4,
 "nbformat_minor": 1
}
