{
 "cells": [
  {
   "cell_type": "code",
   "execution_count": 7,
   "metadata": {},
   "outputs": [],
   "source": [
    "import numpy as np\n",
    "from scipy.optimize import minimize_scalar"
   ]
  },
  {
   "cell_type": "markdown",
   "metadata": {},
   "source": [
    "## Задание номер один:"
   ]
  },
  {
   "cell_type": "code",
   "execution_count": 5,
   "metadata": {},
   "outputs": [
    {
     "name": "stdout",
     "output_type": "stream",
     "text": [
      "12561.329659286415\n"
     ]
    }
   ],
   "source": [
    "v17 = np.array([7.92, 36.16, 25.09, 27.49, 3.34]) / 100\n",
    "v18 = np.array([3.85, 31.13, 32.96, 29.92, 2.13]) / 100\n",
    "\n",
    "#нетрудно видеть что при n = m формула такая:\n",
    "value = ((v17 - v18) ** 2 / (v17 + v18)).sum() * 3.9 * 1e+5 \n",
    "print(value)"
   ]
  },
  {
   "cell_type": "markdown",
   "metadata": {},
   "source": [
    "Квантиль для $\\chi^2_4$ для уровня значимости 0.05 равен 9,4877 поэтому гипотезу можно отвергнуть"
   ]
  },
  {
   "cell_type": "markdown",
   "metadata": {},
   "source": [
    "## Задание номер два:"
   ]
  },
  {
   "cell_type": "code",
   "execution_count": 13,
   "metadata": {},
   "outputs": [
    {
     "name": "stdout",
     "output_type": "stream",
     "text": [
      "argmin teta = 0.512622996198938\n",
      "0.11584636688167527\n"
     ]
    }
   ],
   "source": [
    "v = np.array([527, 476, 1017]) / 2020\n",
    "\n",
    "def criterion(t):\n",
    "    p = np.array([t ** 2, (1 - t) ** 2, 2 * (1 - t) * t])\n",
    "    return 2020 * ((v - p) ** 2 / p).sum()\n",
    "\n",
    "teta = minimize_scalar(criterion, bounds = [0, 1], method = 'Bounded').x\n",
    "\n",
    "print('argmin teta =', teta)\n",
    "\n",
    "print(criterion(teta))"
   ]
  },
  {
   "cell_type": "markdown",
   "metadata": {},
   "source": [
    "Квантиль для $\\chi^2_1$ для уровня значимости 0.05 равен 3,8415 поэтому гипотезу можно принять"
   ]
  },
  {
   "cell_type": "code",
   "execution_count": null,
   "metadata": {},
   "outputs": [],
   "source": []
  }
 ],
 "metadata": {
  "kernelspec": {
   "display_name": "Python 3",
   "language": "python",
   "name": "python3"
  },
  "language_info": {
   "codemirror_mode": {
    "name": "ipython",
    "version": 3
   },
   "file_extension": ".py",
   "mimetype": "text/x-python",
   "name": "python",
   "nbconvert_exporter": "python",
   "pygments_lexer": "ipython3",
   "version": "3.7.4"
  }
 },
 "nbformat": 4,
 "nbformat_minor": 2
}
