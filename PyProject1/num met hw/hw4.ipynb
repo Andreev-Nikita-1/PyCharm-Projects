{
 "cells": [
  {
   "cell_type": "code",
   "execution_count": 158,
   "metadata": {},
   "outputs": [],
   "source": [
    "import numpy as np\n",
    "import matplotlib.pyplot as plt\n",
    "import pylab\n",
    "import sys"
   ]
  },
  {
   "cell_type": "markdown",
   "metadata": {},
   "source": [
    "$f(x+h)=\n",
    "f(x)+\n",
    "hf'(x)+\n",
    "\\frac{h^2}{2}f''(x)+\n",
    "O(h^3)$\n",
    "\n",
    "$A = f(x+\\alpha h)-f(x)=\n",
    "\\alpha h f'(x)+\n",
    "\\alpha^2\\frac{h^2}{2}f''(x)+\n",
    "O(h^3)$\n",
    "\n",
    "$B = f(x-\\frac{1}{\\alpha} h)-f(x)=\n",
    "-\\frac{1}{\\alpha} h f'(x)+\n",
    "\\frac{1}{\\alpha^2}\\frac{h^2}{2}f''(x)+\n",
    "O(h^3)$\n",
    "\n",
    "$f'(x) = \n",
    "\\frac{1}{h} \\left(\\frac{A}{\\alpha^2} - \\alpha^2 B\\right)/\n",
    "\\left(\\alpha + \\frac{1}{\\alpha}\\right) +\n",
    "O(h^2)$"
   ]
  },
  {
   "cell_type": "code",
   "execution_count": 159,
   "metadata": {},
   "outputs": [],
   "source": [
    "def der2order(f, x, alpha, h=np.power(sys.float_info.epsilon, 1/3)):\n",
    "    fx = f(x)\n",
    "    A = f(x + alpha * h) - fx\n",
    "    B = f(x - 1 / alpha * h) - fx\n",
    "    return (A / alpha**2 - B * alpha**2) / (alpha + 1 / alpha) / h"
   ]
  },
  {
   "cell_type": "code",
   "execution_count": 160,
   "metadata": {},
   "outputs": [],
   "source": [
    "def der1order(f, x, alpha, h=np.power(sys.float_info.epsilon, 1/2)):\n",
    "    fx = f(x)\n",
    "    A = f(x + alpha * h) - fx\n",
    "    return A / alpha / h"
   ]
  },
  {
   "cell_type": "code",
   "execution_count": 161,
   "metadata": {},
   "outputs": [],
   "source": [
    "def compare(f, x0, dfx0, alpha, hslogs=np.arange(-12, 0, 0.01)):\n",
    "    hs = [np.power(10, p) for p in hslogs]\n",
    "    err2ord = np.log10([np.abs(dfx0 - der2order(f, x0, alpha, h)) for h in hs])\n",
    "    err1ord = np.log10([np.abs(dfx0 - der1order(f, x0, alpha, h)) for h in hs])\n",
    "    pylab.rcParams['figure.figsize'] = 15, 7\n",
    "    pylab.plot(hslogs, err2ord, label=\"2 order\")\n",
    "    pylab.plot(hslogs, err1ord, label=\"1 order\")\n",
    "    pylab.xlabel(\"log(h)\")\n",
    "    pylab.ylabel(\"log(error)\")\n",
    "    pylab.legend()\n",
    "    pylab.title(\"point = {}, alpha = {}\".format(x0, alpha))\n",
    "    pylab.grid()\n",
    "    pylab.show()"
   ]
  },
  {
   "cell_type": "code",
   "execution_count": 1,
   "metadata": {},
   "outputs": [
    {
     "ename": "NameError",
     "evalue": "name 'compare' is not defined",
     "output_type": "error",
     "traceback": [
      "\u001b[1;31m---------------------------------------------------------------------------\u001b[0m",
      "\u001b[1;31mNameError\u001b[0m                                 Traceback (most recent call last)",
      "\u001b[1;32m<ipython-input-1-6ede1ab9b695>\u001b[0m in \u001b[0;36m<module>\u001b[1;34m\u001b[0m\n\u001b[1;32m----> 1\u001b[1;33m \u001b[0mcompare\u001b[0m\u001b[1;33m(\u001b[0m\u001b[0mnp\u001b[0m\u001b[1;33m.\u001b[0m\u001b[0msin\u001b[0m\u001b[1;33m,\u001b[0m \u001b[1;36m1\u001b[0m\u001b[1;33m,\u001b[0m \u001b[0mnp\u001b[0m\u001b[1;33m.\u001b[0m\u001b[0mcos\u001b[0m\u001b[1;33m(\u001b[0m\u001b[1;36m1\u001b[0m\u001b[1;33m)\u001b[0m\u001b[1;33m,\u001b[0m \u001b[1;36m1\u001b[0m\u001b[1;33m)\u001b[0m\u001b[1;33m\u001b[0m\u001b[1;33m\u001b[0m\u001b[0m\n\u001b[0m\u001b[0;32m      2\u001b[0m \u001b[0mcompare\u001b[0m\u001b[1;33m(\u001b[0m\u001b[0mnp\u001b[0m\u001b[1;33m.\u001b[0m\u001b[0msin\u001b[0m\u001b[1;33m,\u001b[0m \u001b[1;36m1\u001b[0m\u001b[1;33m,\u001b[0m \u001b[0mnp\u001b[0m\u001b[1;33m.\u001b[0m\u001b[0mcos\u001b[0m\u001b[1;33m(\u001b[0m\u001b[1;36m1\u001b[0m\u001b[1;33m)\u001b[0m\u001b[1;33m,\u001b[0m \u001b[1;36m1.5\u001b[0m\u001b[1;33m)\u001b[0m\u001b[1;33m\u001b[0m\u001b[1;33m\u001b[0m\u001b[0m\n\u001b[0;32m      3\u001b[0m \u001b[0mcompare\u001b[0m\u001b[1;33m(\u001b[0m\u001b[0mnp\u001b[0m\u001b[1;33m.\u001b[0m\u001b[0msin\u001b[0m\u001b[1;33m,\u001b[0m \u001b[1;36m1\u001b[0m\u001b[1;33m,\u001b[0m \u001b[0mnp\u001b[0m\u001b[1;33m.\u001b[0m\u001b[0mcos\u001b[0m\u001b[1;33m(\u001b[0m\u001b[1;36m1\u001b[0m\u001b[1;33m)\u001b[0m\u001b[1;33m,\u001b[0m \u001b[1;36m2\u001b[0m\u001b[1;33m)\u001b[0m\u001b[1;33m\u001b[0m\u001b[1;33m\u001b[0m\u001b[0m\n",
      "\u001b[1;31mNameError\u001b[0m: name 'compare' is not defined"
     ]
    }
   ],
   "source": [
    "compare(np.sin, 1, np.cos(1), 1)\n",
    "compare(np.sin, 1, np.cos(1), 1.5)\n",
    "compare(np.sin, 1, np.cos(1), 2)"
   ]
  },
  {
   "cell_type": "markdown",
   "metadata": {},
   "source": [
    "Видно, что ошибка дифференцирования второго порядка действительно второго порядка малости, а первого - первого. Также видно, что оптимальный шаг для метода порядка $k$ - действительно порядка $\\epsilon^\\frac{1}{k+1}$, где $\\epsilon$ - машинный эпсилон."
   ]
  },
  {
   "cell_type": "code",
   "execution_count": 157,
   "metadata": {},
   "outputs": [
    {
     "name": "stdout",
     "output_type": "stream",
     "text": [
      "eps^(1/3) = 6.055454452393343e-06,      eps^(1/2) =1.4901161193847656e-08\n"
     ]
    }
   ],
   "source": [
    "print(\"eps^(1/3) = {},      eps^(1/2) ={}\".format(\n",
    "    np.power(sys.float_info.epsilon, 1 / 3),\n",
    "    np.power(sys.float_info.epsilon, 1 / 2)))"
   ]
  },
  {
   "cell_type": "code",
   "execution_count": null,
   "metadata": {},
   "outputs": [],
   "source": []
  }
 ],
 "metadata": {
  "kernelspec": {
   "display_name": "Python 3",
   "language": "python",
   "name": "python3"
  },
  "language_info": {
   "codemirror_mode": {
    "name": "ipython",
    "version": 3
   },
   "file_extension": ".py",
   "mimetype": "text/x-python",
   "name": "python",
   "nbconvert_exporter": "python",
   "pygments_lexer": "ipython3",
   "version": "3.7.4"
  }
 },
 "nbformat": 4,
 "nbformat_minor": 2
}
